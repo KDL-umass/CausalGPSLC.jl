{
 "cells": [
  {
   "cell_type": "code",
   "execution_count": 1,
   "metadata": {},
   "outputs": [],
   "source": [
    "using JLD\n",
    "include(\"../data/synthetic.jl\")\n",
    "using .Synthetic\n",
    "using TOML\n",
    "using Gen\n",
    "using PyPlot\n",
    "using LinearAlgebra\n",
    "using ProgressBars\n",
    "using Statistics\n",
    "using Distributions\n",
    "using CSV\n",
    "using Random\n",
    "using DataFrames"
   ]
  },
  {
   "cell_type": "code",
   "execution_count": 2,
   "metadata": {},
   "outputs": [],
   "source": [
    "Random.seed!(1234)\n",
    "include(\"../src/model.jl\")\n",
    "include(\"../src/inference.jl\")\n",
    "include(\"../data/processing_iso.jl\")\n",
    "\n",
    "using .Model\n",
    "using .Inference\n",
    "using .ProcessingISO"
   ]
  },
  {
   "cell_type": "code",
   "execution_count": 147,
   "metadata": {},
   "outputs": [
    {
     "name": "stdout",
     "output_type": "stream",
     "text": [
      "\n"
     ]
    }
   ],
   "source": [
    "experiment = 1\n",
    "config_path = \"../experiments/config/ISO/$(experiment).toml\"\n",
    "config = TOML.parsefile(config_path)\n",
    "logmeanexp(x) = logsumexp(x)-log(length(x))\n",
    "\n",
    "\n",
    "# +\n",
    "# Load and process data\n",
    "df = DataFrame(CSV.File(config[\"paths\"][\"data\"]))\n",
    "weekday_df = df[df[!, :IsWeekday] .== \"TRUE\", :]\n",
    "\n",
    "importanceWeights = generateImportanceWeights(config[\"new_means\"], config[\"new_vars\"], weekday_df)\n",
    "T, Y, SigmaU, regions_key = resampleData(config[\"subsample_params\"][\"nSamplesPerState\"], importanceWeights, weekday_df)\n",
    "# -\n",
    "\n",
    "# Scale T and Y\n",
    "T /= 100\n",
    "Y /= 1000\n",
    "println()\n",
    "regions = Set(regions_key)\n",
    "\n",
    "Ts = Dict()\n",
    "Ys = Dict()\n",
    "\n",
    "for region in regions\n",
    "    Ts[region] = weekday_df[weekday_df[!, :Region] .== region, :DryBulbTemp]/100\n",
    "    Ys[region] = weekday_df[weekday_df[!, :Region] .== region, :RealTimeDemand]/1000\n",
    "end"
   ]
  },
  {
   "cell_type": "code",
   "execution_count": 4,
   "metadata": {},
   "outputs": [
    {
     "data": {
      "text/plain": [
       "DynamicDSLFunction{Any}(Dict{Symbol,Any}(), Dict{Symbol,Any}(), Type[Any, Float64], ##NoiseProposal#1912, Bool[0, 0], false)"
      ]
     },
     "execution_count": 4,
     "metadata": {},
     "output_type": "execute_result"
    }
   ],
   "source": [
    "obj_label = collect(Iterators.flatten([fill(i, 25) for (i,_) in enumerate(keys(importanceWeights))]))\n",
    "\n",
    "objIdKey = Dict()\n",
    "for (i, stats) in enumerate(keys(importanceWeights))\n",
    "    objIdKey[stats] = i\n",
    "end\n",
    "# generate initial parameters from prior\n",
    "# ty, xy, uy, ynoise\n",
    "@gen function generateLS(mean, scale)\n",
    "    LS = @trace(normal(mean, scale), :LS)\n",
    "    return LS\n",
    "end\n",
    "@gen function generateNoise(shape, scale)\n",
    "    Noise = @trace(inv_gamma(shape, scale), :Noise)\n",
    "    return Noise\n",
    "end\n",
    "nObj = length(importanceWeights)\n",
    "MappedGenerateLS = Map(generateLS)\n",
    "MappedGenerateNoise = Map(generateNoise)\n",
    "\n",
    "@gen function thetaProposal(trace, var::Float64)\n",
    "    mu = trace[:theta]\n",
    "    @trace(normal(mu, var), :theta)\n",
    "end\n",
    "\n",
    "@gen function alphaProposal(trace, i::Int, var::Float64)\n",
    "    mu = trace[:alpha => i => :LS]\n",
    "    @trace(normal(mu, var), :alpha => i => :LS)\n",
    "end\n",
    "\n",
    "@gen function betaProposal(trace, i::Int, var::Float64)\n",
    "    mu = trace[:beta => i => :LS]\n",
    "    @trace(normal(mu, var), :beta => i => :LS)\n",
    "end\n",
    "\n",
    "@gen function NoiseProposal(trace, var::Float64)\n",
    "    cur = trace[:noise]\n",
    "    \n",
    "    Shape = (cur * cur / var) + 2\n",
    "    Scale = cur * (Shape - 1)\n",
    "    \n",
    "    @trace(inv_gamma(Shape, Scale), :noise)\n",
    "end"
   ]
  },
  {
   "cell_type": "code",
   "execution_count": 5,
   "metadata": {},
   "outputs": [
    {
     "data": {
      "text/plain": [
       "DynamicDSLFunction{Any}(Dict{Symbol,Any}(), Dict{Symbol,Any}(), Type[Array{Float64,1}, Any, Any], ##LinearMLMOffset#1913, Bool[0, 0, 0], false)"
      ]
     },
     "execution_count": 5,
     "metadata": {},
     "output_type": "execute_result"
    }
   ],
   "source": [
    "@gen function LinearMLMOffset(ts::Vector{Float64}, obj_label, nObj)\n",
    "    n = length(ts)\n",
    "    theta = @trace(normal(0,1), :theta) #tyLS\n",
    "    alpha = @trace(MappedGenerateLS(fill(0.0, nObj), fill(10.0, nObj)), :alpha) #alpha\n",
    "    sigma = @trace(inv_gamma(4.0, 4.0), :noise) #tyLS\n",
    "    for i in 1:n\n",
    "        obj = Int(obj_label[i])\n",
    "        t = ts[i]\n",
    "        @trace(normal(theta * t + alpha[obj], sigma), \"y-$i\")\n",
    "    end\n",
    "end"
   ]
  },
  {
   "cell_type": "code",
   "execution_count": 6,
   "metadata": {},
   "outputs": [
    {
     "name": "stdout",
     "output_type": "stream",
     "text": [
      "100.00%┣███████████████████████████████████████████████████████▉┫ 5000/5000 00:33<00:00, 149.57 it/s]\n"
     ]
    }
   ],
   "source": [
    "constraints = choicemap()\n",
    "for (i, y) in enumerate(Y)\n",
    "    constraints[\"y-$i\"] = y\n",
    "end\n",
    "n_run = 5000\n",
    "PosteriorSamples = []\n",
    "(trace, _) = generate(LinearMLMOffset, (T, obj_label, nObj), constraints)\n",
    "for iter=tqdm(1:n_run)\n",
    "    (trace, _) = mh(trace, thetaProposal, (0.5, ))\n",
    "    (trace, _) = mh(trace, NoiseProposal, (0.5, ))\n",
    "    for k in 1:nObj\n",
    "        (trace, _) = mh(trace, alphaProposal, (k, 0.5))\n",
    "    end \n",
    "    push!(PosteriorSamples, get_choices(trace))\n",
    "end"
   ]
  },
  {
   "cell_type": "code",
   "execution_count": 59,
   "metadata": {
    "scrolled": true
   },
   "outputs": [
    {
     "name": "stdout",
     "output_type": "stream",
     "text": [
      "100.00%┣█████████████████████████████████████████████████████████████▉┫ 61/61 00:11<00:00, 5.28 it/s]\n"
     ]
    }
   ],
   "source": [
    "# evaluarion\n",
    "Ycfs, mask, doT = [], nothing, nothing\n",
    "preds = Dict()\n",
    "\n",
    "avg, noises = nothing, [] \n",
    "avg_noises= []\n",
    "doTs = [doT for doT in 0.2:0.01:0.8]\n",
    "for region in regions\n",
    "    preds[region] = Dict()\n",
    "    for doT in doTs\n",
    "        preds[region][doT] = []\n",
    "    end\n",
    "end\n",
    "\n",
    "for (i,doT) in tqdm(enumerate(doTs))\n",
    "    mask = T .!= doT\n",
    "    pred_at_doT = []\n",
    "    noises = []\n",
    "    for j in 1:n_run\n",
    "        theta = PosteriorSamples[j][:theta]\n",
    "        alpha = [PosteriorSamples[j][:alpha=>k=>:LS] for k in 1:nObj]\n",
    "        noise = PosteriorSamples[j][:noise]\n",
    "        for region in regions\n",
    "            push!(preds[region][doT], Normal(theta * doT .+ alpha[objIdKey[region]], noise))\n",
    "        end\n",
    "    end\n",
    "end"
   ]
  },
  {
   "cell_type": "code",
   "execution_count": 44,
   "metadata": {},
   "outputs": [
    {
     "name": "stdout",
     "output_type": "stream",
     "text": [
      "100.00%┣████████████████████████████████████████████████████████████████┫ 6/6 00:04<00:00, 1.29 it/s]\n"
     ]
    }
   ],
   "source": [
    "truthIntMeans = Dict()\n",
    "truthIntVars = Dict()\n",
    "yNoise = 0.2\n",
    "yScale = 1.\n",
    "LS = 0.25\n",
    "for (i, region) in tqdm(enumerate(regions))\n",
    "    kTT = processCov(rbfKernelLog(Ts[region], Ts[region], LS), yScale, yNoise)\n",
    "    means = []\n",
    "    vars = []\n",
    "    for doT in doTs\n",
    "        kTTs = processCov(rbfKernelLog(Ts[region], [doT], LS), yScale, nothing)\n",
    "        kTsTs = processCov(rbfKernelLog([doT], [doT], LS), yScale, nothing)\n",
    "        push!(means, (kTTs' * (kTT \\ Ys[region]))[1])\n",
    "        push!(vars, (kTsTs - kTTs' * (kTT \\ kTTs))[1])\n",
    "    end\n",
    "    truthIntMeans[region] = means\n",
    "    truthIntVars[region] = vars\n",
    "   \n",
    "end"
   ]
  },
  {
   "cell_type": "code",
   "execution_count": 176,
   "metadata": {
    "scrolled": false
   },
   "outputs": [],
   "source": [
    "estIntSamples = Dict()\n",
    "estIntLogLikelihoods = Dict()\n",
    "\n",
    "indecesDict = Dict()\n",
    "\n",
    "for region in regions\n",
    "    indecesDict[region] = regions_key .== region\n",
    "    \n",
    "    estIntSamples[region] = Dict()\n",
    "    estIntLogLikelihoods[region] = Dict()\n",
    "    \n",
    "    for doT in doTs\n",
    "        estIntSamples[region][doT] = []\n",
    "        estIntLogLikelihoods[region][doT] = []\n",
    "    end\n",
    "end\n",
    "\n",
    "nOuter = 5000\n",
    "burnIn = 1000\n",
    "stepSize = 100\n",
    "# preds doT x 200 x N\n",
    "for i in burnIn:stepSize:nOuter\n",
    "    for (j, doT) in enumerate(doTs)\n",
    "        for region in regions\n",
    "            indeces = indecesDict[region]\n",
    "            \n",
    "            truth = truthIntMeans[region][j]\n",
    "            dist = preds[region][doT][i]\n",
    "            truthLogLikelihood = loglikelihood(dist, [truth])\n",
    "            push!(estIntLogLikelihoods[region][doT], truthLogLikelihood)  \n",
    "        end\n",
    "    end\n",
    "end"
   ]
  },
  {
   "cell_type": "code",
   "execution_count": 177,
   "metadata": {},
   "outputs": [],
   "source": [
    "scores = Dict()\n",
    "\n",
    "for region in regions\n",
    "    scores[region] = 0\n",
    "    \n",
    "    for doT in doTs\n",
    "        scores[region] += logmeanexp([Real(llh) for llh in estIntLogLikelihoods[region][doT]])\n",
    "    end\n",
    "    \n",
    "    scores[region] /= length(doTs)\n",
    "end"
   ]
  },
  {
   "cell_type": "code",
   "execution_count": 179,
   "metadata": {},
   "outputs": [
    {
     "data": {
      "text/plain": [
       "Dict{Any,Any} with 6 entries:\n",
       "  \"NH\"   => 0.152335\n",
       "  \"CT\"   => -0.687135\n",
       "  \"NEMA\" => -0.190515\n",
       "  \"RI\"   => 0.192545\n",
       "  \"ME\"   => 0.23525\n",
       "  \"VT\"   => 0.271347"
      ]
     },
     "execution_count": 179,
     "metadata": {},
     "output_type": "execute_result"
    }
   ],
   "source": [
    "scores"
   ]
  },
  {
   "cell_type": "code",
   "execution_count": null,
   "metadata": {},
   "outputs": [],
   "source": []
  }
 ],
 "metadata": {
  "kernelspec": {
   "display_name": "Julia 1.2.0",
   "language": "julia",
   "name": "julia-1.2"
  },
  "language_info": {
   "file_extension": ".jl",
   "mimetype": "application/julia",
   "name": "julia",
   "version": "1.2.0"
  }
 },
 "nbformat": 4,
 "nbformat_minor": 2
}
