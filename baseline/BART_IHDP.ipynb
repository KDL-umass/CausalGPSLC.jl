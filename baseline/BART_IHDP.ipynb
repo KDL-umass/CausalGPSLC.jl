{
 "cells": [
  {
   "cell_type": "code",
   "execution_count": 1,
   "metadata": {},
   "outputs": [],
   "source": [
    "import toml\n",
    "import sys\n",
    "import numpy as np\n",
    "import pandas as pd\n",
    "\n",
    "from scipy.stats import norm\n",
    "from scipy.special import logsumexp\n",
    "\n",
    "import os\n",
    "\n",
    "try:\n",
    "    chdir\n",
    "    print(\"Changed\")\n",
    "except:\n",
    "    os.chdir(\"./bartpy/\")\n",
    "    chdir = True\n",
    "\n",
    "from bartpy.sklearnmodel import SklearnModel"
   ]
  },
  {
   "cell_type": "code",
   "execution_count": 2,
   "metadata": {},
   "outputs": [],
   "source": [
    "def logmeanexp(x):\n",
    "    return logsumexp(x)-np.log(x.size)"
   ]
  },
  {
   "cell_type": "code",
   "execution_count": 6,
   "metadata": {},
   "outputs": [
    {
     "name": "stdout",
     "output_type": "stream",
     "text": [
      "The julia.magic extension is already loaded. To reload it, use:\n",
      "  %reload_ext julia.magic\n",
      "(263, 1) (263, 6) (263, 200)\n"
     ]
    }
   ],
   "source": [
    "from julia import Julia\n",
    "jl = Julia(compiled_modules=False)\n",
    "%load_ext julia.magic\n",
    "\n",
    "%julia using JLD\n",
    "T   = %julia load(\"/Users/switty/Desktop/Research/GPROC/experiments/results/IHDP/exp1/T.jld\")[\"T\"]\n",
    "X   = %julia load(\"/Users/switty/Desktop/Research/GPROC/experiments/results/IHDP/exp1/X.jld\")[\"X\"]\n",
    "Y   = %julia load(\"/Users/switty/Desktop/Research/GPROC/experiments/results/IHDP/exp1/Y.jld\")[\"Y\"]\n",
    "Ycf = %julia load(\"/Users/switty/Desktop/Research/GPROC/experiments/results/IHDP/exp1/Ycf.jld\")[\"Ycf\"]\n",
    "object_indeces = %julia load(\"/Users/switty/Desktop/Research/GPROC/experiments/results/IHDP/exp1/objectIndeces.jld\")[\"objectIndeces\"]\n",
    "\n",
    "object_ids = np.zeros((len(T), len(object_indeces)))\n",
    "\n",
    "for i, obj in enumerate(object_indeces):\n",
    "    for j in obj:\n",
    "        object_ids[j-1, i] = 1\n",
    "        \n",
    "print(T.reshape(-1, 1).shape, np.vstack(X).T.shape, object_ids.shape)\n",
    "Z = np.concatenate([T.reshape(-1, 1), np.vstack(X).T, object_ids], axis=1)\n",
    "\n",
    "Zcf = Z.copy()\n",
    "Zcf[:, 0] = 1 - Zcf[:, 0]\n",
    "Ycf = np.array(Ycf)"
   ]
  },
  {
   "cell_type": "code",
   "execution_count": 8,
   "metadata": {},
   "outputs": [
    {
     "name": "stdout",
     "output_type": "stream",
     "text": [
      "Starting burn\n"
     ]
    },
    {
     "name": "stderr",
     "output_type": "stream",
     "text": [
      "  0%|          | 0/50 [00:00<?, ?it/s]/Users/switty/Desktop/Research/GPROC/baseline/bartpy/bartpy/samplers/unconstrainedtree/likihoodratio.py:173: RuntimeWarning: divide by zero encountered in log\n",
      "  prob_value_selected_within_variable = np.log(mutation.existing_node.data.proportion_of_value_in_variable(splitting_variable, splitting_value))\n",
      "/Users/switty/Desktop/Research/GPROC/baseline/bartpy/bartpy/samplers/treemutation.py:77: RuntimeWarning: invalid value encountered in double_scalars\n",
      "  return self.log_transition_ratio(tree, mutation) + self.log_likihood_ratio(model, tree, mutation) + self.log_tree_ratio(model, tree, mutation)\n",
      "  2%|▏         | 1/50 [00:00<00:29,  1.66it/s]"
     ]
    },
    {
     "name": "stdout",
     "output_type": "stream",
     "text": [
      "Starting burn\n"
     ]
    },
    {
     "name": "stderr",
     "output_type": "stream",
     "text": [
      "  4%|▍         | 2/50 [00:01<00:26,  1.82it/s]/Users/switty/Desktop/Research/GPROC/baseline/bartpy/bartpy/samplers/unconstrainedtree/likihoodratio.py:173: RuntimeWarning: divide by zero encountered in log\n",
      "  prob_value_selected_within_variable = np.log(mutation.existing_node.data.proportion_of_value_in_variable(splitting_variable, splitting_value))\n",
      "/Users/switty/Desktop/Research/GPROC/baseline/bartpy/bartpy/samplers/treemutation.py:77: RuntimeWarning: invalid value encountered in double_scalars\n",
      "  return self.log_transition_ratio(tree, mutation) + self.log_likihood_ratio(model, tree, mutation) + self.log_tree_ratio(model, tree, mutation)\n",
      "  4%|▍         | 2/50 [00:00<00:25,  1.92it/s]"
     ]
    },
    {
     "name": "stdout",
     "output_type": "stream",
     "text": [
      "Starting burn\n"
     ]
    },
    {
     "name": "stderr",
     "output_type": "stream",
     "text": [
      "  8%|▊         | 4/50 [00:02<00:25,  1.83it/s]/Users/switty/Desktop/Research/GPROC/baseline/bartpy/bartpy/samplers/unconstrainedtree/likihoodratio.py:173: RuntimeWarning: divide by zero encountered in log\n",
      "  prob_value_selected_within_variable = np.log(mutation.existing_node.data.proportion_of_value_in_variable(splitting_variable, splitting_value))\n",
      "/Users/switty/Desktop/Research/GPROC/baseline/bartpy/bartpy/samplers/treemutation.py:77: RuntimeWarning: invalid value encountered in double_scalars\n",
      "  return self.log_transition_ratio(tree, mutation) + self.log_likihood_ratio(model, tree, mutation) + self.log_tree_ratio(model, tree, mutation)\n",
      "  2%|▏         | 1/50 [00:00<00:31,  1.55it/s]"
     ]
    },
    {
     "name": "stdout",
     "output_type": "stream",
     "text": [
      "Starting burn\n"
     ]
    },
    {
     "name": "stderr",
     "output_type": "stream",
     "text": [
      "  4%|▍         | 2/50 [00:01<00:27,  1.72it/s]/Users/switty/Desktop/Research/GPROC/baseline/bartpy/bartpy/samplers/unconstrainedtree/likihoodratio.py:173: RuntimeWarning: divide by zero encountered in log\n",
      "  prob_value_selected_within_variable = np.log(mutation.existing_node.data.proportion_of_value_in_variable(splitting_variable, splitting_value))\n",
      "/Users/switty/Desktop/Research/GPROC/baseline/bartpy/bartpy/samplers/treemutation.py:77: RuntimeWarning: invalid value encountered in double_scalars\n",
      "  return self.log_transition_ratio(tree, mutation) + self.log_likihood_ratio(model, tree, mutation) + self.log_tree_ratio(model, tree, mutation)\n",
      " 10%|█         | 5/50 [00:02<00:24,  1.82it/s]"
     ]
    },
    {
     "name": "stdout",
     "output_type": "stream",
     "text": [
      "Starting burn\n"
     ]
    },
    {
     "name": "stderr",
     "output_type": "stream",
     "text": [
      "  6%|▌         | 3/50 [00:01<00:23,  2.00it/s]/Users/switty/Desktop/Research/GPROC/baseline/bartpy/bartpy/samplers/unconstrainedtree/likihoodratio.py:173: RuntimeWarning: divide by zero encountered in log\n",
      "  prob_value_selected_within_variable = np.log(mutation.existing_node.data.proportion_of_value_in_variable(splitting_variable, splitting_value))\n",
      "/Users/switty/Desktop/Research/GPROC/baseline/bartpy/bartpy/samplers/treemutation.py:77: RuntimeWarning: invalid value encountered in double_scalars\n",
      "  return self.log_transition_ratio(tree, mutation) + self.log_likihood_ratio(model, tree, mutation) + self.log_tree_ratio(model, tree, mutation)\n",
      "  2%|▏         | 1/50 [00:00<00:33,  1.47it/s]"
     ]
    },
    {
     "name": "stdout",
     "output_type": "stream",
     "text": [
      "Starting burn\n"
     ]
    },
    {
     "name": "stderr",
     "output_type": "stream",
     "text": [
      "  8%|▊         | 4/50 [00:02<00:25,  1.79it/s]/Users/switty/Desktop/Research/GPROC/baseline/bartpy/bartpy/samplers/unconstrainedtree/likihoodratio.py:173: RuntimeWarning: divide by zero encountered in log\n",
      "  prob_value_selected_within_variable = np.log(mutation.existing_node.data.proportion_of_value_in_variable(splitting_variable, splitting_value))\n",
      "/Users/switty/Desktop/Research/GPROC/baseline/bartpy/bartpy/samplers/treemutation.py:77: RuntimeWarning: invalid value encountered in double_scalars\n",
      "  return self.log_transition_ratio(tree, mutation) + self.log_likihood_ratio(model, tree, mutation) + self.log_tree_ratio(model, tree, mutation)\n",
      "  6%|▌         | 3/50 [00:01<00:25,  1.85it/s]"
     ]
    },
    {
     "name": "stdout",
     "output_type": "stream",
     "text": [
      "Starting burn\n"
     ]
    },
    {
     "name": "stderr",
     "output_type": "stream",
     "text": [
      " 12%|█▏        | 6/50 [00:03<00:29,  1.47it/s]]/Users/switty/Desktop/Research/GPROC/baseline/bartpy/bartpy/samplers/unconstrainedtree/likihoodratio.py:173: RuntimeWarning: divide by zero encountered in log\n",
      "  prob_value_selected_within_variable = np.log(mutation.existing_node.data.proportion_of_value_in_variable(splitting_variable, splitting_value))\n",
      "  8%|▊         | 4/50 [00:02<00:26,  1.74it/s]/Users/switty/Desktop/Research/GPROC/baseline/bartpy/bartpy/samplers/treemutation.py:77: RuntimeWarning: invalid value encountered in double_scalars\n",
      "  return self.log_transition_ratio(tree, mutation) + self.log_likihood_ratio(model, tree, mutation) + self.log_tree_ratio(model, tree, mutation)\n",
      " 18%|█▊        | 9/50 [00:04<00:20,  2.05it/s]"
     ]
    },
    {
     "name": "stdout",
     "output_type": "stream",
     "text": [
      "Starting burn\n"
     ]
    },
    {
     "name": "stderr",
     "output_type": "stream",
     "text": [
      " 12%|█▏        | 6/50 [00:03<00:28,  1.52it/s]]/Users/switty/Desktop/Research/GPROC/baseline/bartpy/bartpy/samplers/unconstrainedtree/likihoodratio.py:173: RuntimeWarning: divide by zero encountered in log\n",
      "  prob_value_selected_within_variable = np.log(mutation.existing_node.data.proportion_of_value_in_variable(splitting_variable, splitting_value))\n",
      "/Users/switty/Desktop/Research/GPROC/baseline/bartpy/bartpy/samplers/treemutation.py:77: RuntimeWarning: invalid value encountered in double_scalars\n",
      "  return self.log_transition_ratio(tree, mutation) + self.log_likihood_ratio(model, tree, mutation) + self.log_tree_ratio(model, tree, mutation)\n",
      "100%|██████████| 50/50 [00:26<00:00,  1.80it/s]\n"
     ]
    },
    {
     "name": "stdout",
     "output_type": "stream",
     "text": [
      "Starting sampling\n"
     ]
    },
    {
     "name": "stderr",
     "output_type": "stream",
     "text": [
      "100%|██████████| 50/50 [00:26<00:00,  1.76it/s]\n"
     ]
    },
    {
     "name": "stdout",
     "output_type": "stream",
     "text": [
      "Starting sampling\n"
     ]
    },
    {
     "name": "stderr",
     "output_type": "stream",
     "text": [
      " 88%|████████▊ | 44/50 [00:23<00:03,  1.97it/s]\n",
      " 94%|█████████▍| 47/50 [00:25<00:01,  1.97it/s]"
     ]
    },
    {
     "name": "stdout",
     "output_type": "stream",
     "text": [
      "Starting sampling\n"
     ]
    },
    {
     "name": "stderr",
     "output_type": "stream",
     "text": [
      "100%|██████████| 50/50 [00:26<00:00,  1.81it/s]\n"
     ]
    },
    {
     "name": "stdout",
     "output_type": "stream",
     "text": [
      "Starting sampling\n"
     ]
    },
    {
     "name": "stderr",
     "output_type": "stream",
     "text": [
      "100%|██████████| 50/50 [00:26<00:00,  1.79it/s]\n"
     ]
    },
    {
     "name": "stdout",
     "output_type": "stream",
     "text": [
      "Starting sampling\n"
     ]
    },
    {
     "name": "stderr",
     "output_type": "stream",
     "text": [
      "100%|██████████| 50/50 [00:26<00:00,  1.78it/s]\n"
     ]
    },
    {
     "name": "stdout",
     "output_type": "stream",
     "text": [
      "Starting sampling\n"
     ]
    },
    {
     "name": "stderr",
     "output_type": "stream",
     "text": [
      "100%|██████████| 50/50 [00:26<00:00,  1.76it/s]\n"
     ]
    },
    {
     "name": "stdout",
     "output_type": "stream",
     "text": [
      "Starting sampling\n"
     ]
    },
    {
     "name": "stderr",
     "output_type": "stream",
     "text": [
      "100%|██████████| 10/10 [00:05<00:00,  1.65it/s]\n",
      "100%|██████████| 50/50 [00:26<00:00,  1.73it/s]\n"
     ]
    },
    {
     "name": "stdout",
     "output_type": "stream",
     "text": [
      "Starting sampling\n"
     ]
    },
    {
     "name": "stderr",
     "output_type": "stream",
     "text": [
      "100%|██████████| 10/10 [00:05<00:00,  1.65it/s]\n",
      "100%|██████████| 10/10 [00:06<00:00,  1.55it/s]\n",
      "100%|██████████| 10/10 [00:06<00:00,  1.54it/s]\n",
      "100%|██████████| 10/10 [00:06<00:00,  1.65it/s]\n",
      "100%|██████████| 10/10 [00:05<00:00,  1.86it/s]\n",
      "100%|██████████| 10/10 [00:05<00:00,  1.99it/s]\n",
      "100%|██████████| 10/10 [00:05<00:00,  2.31it/s]\n"
     ]
    },
    {
     "name": "stdout",
     "output_type": "stream",
     "text": [
      "Starting burn\n"
     ]
    },
    {
     "name": "stderr",
     "output_type": "stream",
     "text": [
      "  0%|          | 0/50 [00:00<?, ?it/s]/Users/switty/Desktop/Research/GPROC/baseline/bartpy/bartpy/samplers/unconstrainedtree/likihoodratio.py:173: RuntimeWarning: divide by zero encountered in log\n",
      "  prob_value_selected_within_variable = np.log(mutation.existing_node.data.proportion_of_value_in_variable(splitting_variable, splitting_value))\n",
      "/Users/switty/Desktop/Research/GPROC/baseline/bartpy/bartpy/samplers/treemutation.py:77: RuntimeWarning: invalid value encountered in double_scalars\n",
      "  return self.log_transition_ratio(tree, mutation) + self.log_likihood_ratio(model, tree, mutation) + self.log_tree_ratio(model, tree, mutation)\n",
      "  2%|▏         | 1/50 [00:00<00:10,  4.81it/s]"
     ]
    },
    {
     "name": "stdout",
     "output_type": "stream",
     "text": [
      "Starting burn\n"
     ]
    },
    {
     "name": "stderr",
     "output_type": "stream",
     "text": [
      "  0%|          | 0/50 [00:00<?, ?it/s]/Users/switty/Desktop/Research/GPROC/baseline/bartpy/bartpy/samplers/unconstrainedtree/likihoodratio.py:173: RuntimeWarning: divide by zero encountered in log\n",
      "  prob_value_selected_within_variable = np.log(mutation.existing_node.data.proportion_of_value_in_variable(splitting_variable, splitting_value))\n",
      "/Users/switty/Desktop/Research/GPROC/baseline/bartpy/bartpy/samplers/treemutation.py:77: RuntimeWarning: invalid value encountered in double_scalars\n",
      "  return self.log_transition_ratio(tree, mutation) + self.log_likihood_ratio(model, tree, mutation) + self.log_tree_ratio(model, tree, mutation)\n",
      "100%|██████████| 50/50 [00:10<00:00,  4.52it/s]\n"
     ]
    },
    {
     "name": "stdout",
     "output_type": "stream",
     "text": [
      "Starting sampling\n"
     ]
    },
    {
     "name": "stderr",
     "output_type": "stream",
     "text": [
      "100%|██████████| 50/50 [00:10<00:00,  4.54it/s]\n"
     ]
    },
    {
     "name": "stdout",
     "output_type": "stream",
     "text": [
      "Starting sampling\n"
     ]
    },
    {
     "name": "stderr",
     "output_type": "stream",
     "text": [
      "100%|██████████| 10/10 [00:02<00:00,  4.83it/s]\n",
      "100%|██████████| 10/10 [00:02<00:00,  4.89it/s]\n"
     ]
    },
    {
     "data": {
      "text/plain": [
       "SklearnModel(alpha=0.95, beta=2.0,\n",
       "       initializer=<bartpy.initializers.sklearntreeinitializer.SklearnTreeInitializer object at 0x11ee73080>,\n",
       "       n_burn=50, n_chains=10, n_jobs=-1, n_samples=10, n_trees=10,\n",
       "       sigma_a=0.001, sigma_b=0.001, store_acceptance_trace=True,\n",
       "       store_in_sample_predictions=False, thin=1,\n",
       "       tree_sampler=<bartpy.samplers.unconstrainedtree.treemutation.UnconstrainedTreeMutationSampler object at 0x11ee73048>)"
      ]
     },
     "execution_count": 8,
     "metadata": {},
     "output_type": "execute_result"
    }
   ],
   "source": [
    "model = SklearnModel(n_samples=10,\n",
    "                     n_chains=10,\n",
    "                     n_burn=50,\n",
    "                     n_trees=10,\n",
    "                     thin=1,\n",
    "                     store_in_sample_predictions=False)\n",
    "model.fit(Z, Y)"
   ]
  },
  {
   "cell_type": "code",
   "execution_count": 9,
   "metadata": {},
   "outputs": [],
   "source": [
    "loglikelihoods = np.zeros((len(model._model_samples), len(T)))\n",
    "\n",
    "effect = Ycf - Y\n",
    "\n",
    "Ypred = model.predict(Z)\n",
    "Ycf_pred = model.predict(Zcf)\n",
    "\n",
    "effect_pred = Ycf_pred - Ypred\n",
    "\n"
   ]
  },
  {
   "cell_type": "code",
   "execution_count": 10,
   "metadata": {},
   "outputs": [
    {
     "data": {
      "text/plain": [
       "array([ -0.19107252,   0.19107252,   8.11873281,   7.36390119,\n",
       "         8.11873281, -10.31376197, -12.42640661,   4.95809623,\n",
       "         4.32854287,   6.80361328,   1.50619205,   4.95809623,\n",
       "         6.04878166,   4.32854287,   7.36390119,   6.04878166,\n",
       "         6.80361328,   6.04878166,  -4.32854287,   4.95809623,\n",
       "         6.17405992,   6.27321576,  -5.4192283 ,   0.19107252,\n",
       "         6.27321576,   6.27321576,  -8.11873281,   4.95809623,\n",
       "        -0.43848084,   5.4192283 ,  -0.43848084,   6.27321576,\n",
       "         6.80361328,   5.82580073,   4.95809623,   5.4192283 ,\n",
       "         4.32854287,   1.50619205,   6.17405992,   4.32854287,\n",
       "         5.4192283 ,  -5.82580073,   0.43848084,  -4.32854287,\n",
       "        -4.95809623,   4.95809623,   0.19107252,   7.36390119,\n",
       "         6.04878166,  -5.4192283 ,  -5.4192283 ,   6.04878166,\n",
       "       -12.83171152,  -4.32854287,   4.32854287,   7.98211481,\n",
       "         6.04878166,   6.17405992,  -8.11873281,  -6.27321576,\n",
       "         7.36390119,   5.4192283 ,   7.36390119,  -0.19107252,\n",
       "         5.4192283 ,   6.04878166,   6.27321576,   4.32854287,\n",
       "         4.95809623,   7.36390119,   6.04878166,   6.80361328,\n",
       "         6.17405992,   6.80361328,  -8.11873281,  -4.32854287,\n",
       "        -6.17405992,   6.04878166,   6.04878166,  -4.32854287,\n",
       "         4.95809623,   4.32854287,   6.80361328,   6.04878166,\n",
       "         4.95809623,  -7.36390119,   7.36390119,  -7.36390119,\n",
       "         5.4192283 ,   6.80361328,  -0.43848084,  -4.32854287,\n",
       "         4.95809623,   8.11873281,   5.4192283 , -10.31376197,\n",
       "         6.04878166,   6.27321576,   6.04878166,   6.17405992,\n",
       "         7.36390119,   6.80361328,   6.04878166,   0.19107252,\n",
       "         6.27321576,   6.27321576,   7.36390119,   1.50619205,\n",
       "        -0.19107252,  -4.95809623,   0.19107252,   7.36390119,\n",
       "         4.95809623, -11.79685325,   0.19107252,   4.95809623,\n",
       "        -0.43848084,   6.17405992,   8.11873281,   5.4192283 ,\n",
       "         6.04878166,   4.95809623,   6.80361328,   7.36390119,\n",
       "         0.19107252,  -0.43848084,   4.95809623, -12.01983418,\n",
       "         0.19107252,   0.19107252,   5.4192283 , -10.31376197,\n",
       "         0.19107252,   4.95809623,   6.80361328,   0.19107252,\n",
       "         5.4192283 ,   7.36390119,   5.4192283 ,   6.17405992,\n",
       "         6.04878166,   7.36390119,   4.32854287,  -0.43848084,\n",
       "         5.4192283 ,   4.32854287,  -0.43848084,   7.36390119,\n",
       "         4.95809623,  -0.43848084,   4.95809623,   4.95809623,\n",
       "         6.80361328,   5.4192283 ,   1.50619205, -10.31376197,\n",
       "         8.11873281,   6.17405992, -11.79685325,   4.32854287,\n",
       "         6.04878166,   4.95809623,   6.04878166,   6.17405992,\n",
       "         5.4192283 ,   6.04878166,   0.43848084,  -4.32854287,\n",
       "        -1.50619205,   6.04878166,   5.82580073,   6.04878166,\n",
       "         7.36390119,   0.19107252,   5.4192283 ,  -5.4192283 ,\n",
       "         6.04878166,   4.32854287,   6.27321576,   1.50619205,\n",
       "         6.80361328,  -7.36390119,   5.4192283 ,   8.11873281,\n",
       "       -23.88123066,   6.04878166,   1.50619205,   6.80361328,\n",
       "        -4.95809623,   4.32854287,   6.17405992,   0.43848084,\n",
       "        -0.43848084,   8.11873281,   6.27321576,   5.4192283 ,\n",
       "        -0.43848084,   4.32854287,   6.04878166,   6.17405992,\n",
       "        12.42640661,  -4.95809623,   0.43848084,  -4.95809623,\n",
       "        -6.04878166,  -7.36390119,  -8.11873281,   4.32854287,\n",
       "        -6.27321576,   8.11873281,   0.43848084,  -6.80361328,\n",
       "        -6.04878166,  -4.95809623,  -1.50619205,  -5.4192283 ,\n",
       "        -4.32854287,  -0.19107252,  -7.36390119,  12.83171152,\n",
       "        -4.32854287,  -6.13659776,   6.27321576,  -6.04878166,\n",
       "        -6.27321576,  -4.95809623,  -6.80361328,  -4.95809623,\n",
       "         4.32854287,  -6.04878166,  -4.32854287,  -6.04878166,\n",
       "         7.36390119,   7.36390119,  -5.4192283 ,  -4.95809623,\n",
       "        -1.50619205,  -6.17405992,  -7.36390119,  -7.36390119,\n",
       "        -7.36390119,  -5.4192283 ,  -4.95809623,  -7.36390119,\n",
       "         0.43848084,  -4.95809623,  -0.19107252,  -6.17405992,\n",
       "        -5.4192283 ,   0.43848084,  -4.51234597,  -1.50619205,\n",
       "        10.31376197,  -4.32854287,   4.32854287,  -6.04878166,\n",
       "        -6.80361328,   7.36390119,  -6.04878166,  -8.11873281,\n",
       "        -1.50619205,  -6.27321576,  -4.32854287])"
      ]
     },
     "execution_count": 10,
     "metadata": {},
     "output_type": "execute_result"
    }
   ],
   "source": [
    "effect_pred"
   ]
  },
  {
   "cell_type": "code",
   "execution_count": 11,
   "metadata": {},
   "outputs": [],
   "source": [
    "def PEHE(effect, effect_pred):\n",
    "    return np.sqrt(((effect - effect_pred)**2).mean())"
   ]
  },
  {
   "cell_type": "code",
   "execution_count": 12,
   "metadata": {},
   "outputs": [],
   "source": [
    "TreatedMask = T == 1\n",
    "\n",
    "Treated = PEHE(effect[T == 1], effect_pred[T == 1])\n",
    "Control = PEHE(effect[T == 0], effect_pred[T == 0])"
   ]
  },
  {
   "cell_type": "code",
   "execution_count": 13,
   "metadata": {},
   "outputs": [
    {
     "data": {
      "text/plain": [
       "1.5423068234242965"
      ]
     },
     "execution_count": 13,
     "metadata": {},
     "output_type": "execute_result"
    }
   ],
   "source": [
    "Treated"
   ]
  },
  {
   "cell_type": "code",
   "execution_count": 14,
   "metadata": {},
   "outputs": [
    {
     "data": {
      "text/plain": [
       "1.5574912454553238"
      ]
     },
     "execution_count": 14,
     "metadata": {},
     "output_type": "execute_result"
    }
   ],
   "source": [
    "Control"
   ]
  },
  {
   "cell_type": "code",
   "execution_count": null,
   "metadata": {},
   "outputs": [],
   "source": []
  }
 ],
 "metadata": {
  "kernelspec": {
   "display_name": "Python 3",
   "language": "python",
   "name": "python3"
  },
  "language_info": {
   "codemirror_mode": {
    "name": "ipython",
    "version": 3
   },
   "file_extension": ".py",
   "mimetype": "text/x-python",
   "name": "python",
   "nbconvert_exporter": "python",
   "pygments_lexer": "ipython3",
   "version": "3.6.8"
  }
 },
 "nbformat": 4,
 "nbformat_minor": 2
}
