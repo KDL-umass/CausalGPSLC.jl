{
 "cells": [
  {
   "cell_type": "code",
   "execution_count": 5,
   "metadata": {},
   "outputs": [],
   "source": [
    "import toml\n",
    "import sys\n",
    "import numpy as np\n",
    "import pandas as pd\n",
    "\n",
    "from scipy.stats import norm\n",
    "from scipy.special import logsumexp\n",
    "\n",
    "import os\n",
    "\n",
    "try:\n",
    "    chdir\n",
    "    print(\"Changed\")\n",
    "except:\n",
    "    os.chdir(\"./bartpy/\")\n",
    "    chdir = True\n",
    "\n",
    "from bartpy.sklearnmodel import SklearnModel"
   ]
  },
  {
   "cell_type": "code",
   "execution_count": 6,
   "metadata": {},
   "outputs": [],
   "source": [
    "def logmeanexp(x):\n",
    "    return logsumexp(x)-np.log(x.size)"
   ]
  },
  {
   "cell_type": "code",
   "execution_count": 29,
   "metadata": {},
   "outputs": [
    {
     "name": "stdout",
     "output_type": "stream",
     "text": [
      "The julia.magic extension is already loaded. To reload it, use:\n",
      "  %reload_ext julia.magic\n",
      "(263, 1) (263, 6) (263, 200)\n"
     ]
    }
   ],
   "source": [
    "from julia import Julia\n",
    "jl = Julia(compiled_modules=False)\n",
    "%load_ext julia.magic\n",
    "\n",
    "%julia using JLD\n",
    "T   = %julia load(\"/Users/switty/Desktop/Research/GPROC/experiments/results/IHDP/exp1/T.jld\")[\"T\"]\n",
    "X   = %julia load(\"/Users/switty/Desktop/Research/GPROC/experiments/results/IHDP/exp1/X.jld\")[\"X\"]\n",
    "Y   = %julia load(\"/Users/switty/Desktop/Research/GPROC/experiments/results/IHDP/exp1/Y.jld\")[\"Y\"]\n",
    "Ycf = %julia load(\"/Users/switty/Desktop/Research/GPROC/experiments/results/IHDP/exp1/Ycf.jld\")[\"Ycf\"]\n",
    "object_indeces = %julia load(\"/Users/switty/Desktop/Research/GPROC/experiments/results/IHDP/exp1/objectIndeces.jld\")[\"objectIndeces\"]\n",
    "\n",
    "object_ids = np.zeros((len(T), len(object_indeces)))\n",
    "\n",
    "for i, obj in enumerate(object_indeces):\n",
    "    for j in obj:\n",
    "        object_ids[j-1, i] = 1\n",
    "        \n",
    "print(T.reshape(-1, 1).shape, np.vstack(X).T.shape, object_ids.shape)\n",
    "Z = np.concatenate([T.reshape(-1, 1), np.vstack(X).T, object_ids], axis=1)\n",
    "\n",
    "Zcf = Z.copy()\n",
    "Zcf[:, 1] = 1 - Zcf[:, 1]\n",
    "Ycf = np.array(Ycf)"
   ]
  },
  {
   "cell_type": "code",
   "execution_count": 31,
   "metadata": {},
   "outputs": [
    {
     "name": "stdout",
     "output_type": "stream",
     "text": [
      "Starting burn\n"
     ]
    },
    {
     "name": "stderr",
     "output_type": "stream",
     "text": [
      "  0%|          | 0/50 [00:00<?, ?it/s]/Users/switty/Desktop/Research/GPROC/baseline/bartpy/bartpy/samplers/unconstrainedtree/likihoodratio.py:173: RuntimeWarning: divide by zero encountered in log\n",
      "  prob_value_selected_within_variable = np.log(mutation.existing_node.data.proportion_of_value_in_variable(splitting_variable, splitting_value))\n",
      "/Users/switty/Desktop/Research/GPROC/baseline/bartpy/bartpy/samplers/treemutation.py:77: RuntimeWarning: invalid value encountered in double_scalars\n",
      "  return self.log_transition_ratio(tree, mutation) + self.log_likihood_ratio(model, tree, mutation) + self.log_tree_ratio(model, tree, mutation)\n",
      "  4%|▍         | 2/50 [00:00<00:18,  2.62it/s]"
     ]
    },
    {
     "name": "stdout",
     "output_type": "stream",
     "text": [
      "Starting burn\n"
     ]
    },
    {
     "name": "stderr",
     "output_type": "stream",
     "text": [
      "  6%|▌         | 3/50 [00:01<00:19,  2.42it/s]/Users/switty/Desktop/Research/GPROC/baseline/bartpy/bartpy/samplers/unconstrainedtree/likihoodratio.py:173: RuntimeWarning: divide by zero encountered in log\n",
      "  prob_value_selected_within_variable = np.log(mutation.existing_node.data.proportion_of_value_in_variable(splitting_variable, splitting_value))\n",
      "/Users/switty/Desktop/Research/GPROC/baseline/bartpy/bartpy/samplers/treemutation.py:77: RuntimeWarning: invalid value encountered in double_scalars\n",
      "  return self.log_transition_ratio(tree, mutation) + self.log_likihood_ratio(model, tree, mutation) + self.log_tree_ratio(model, tree, mutation)\n",
      "  4%|▍         | 2/50 [00:00<00:17,  2.68it/s]"
     ]
    },
    {
     "name": "stdout",
     "output_type": "stream",
     "text": [
      "Starting burn\n"
     ]
    },
    {
     "name": "stderr",
     "output_type": "stream",
     "text": [
      " 10%|█         | 5/50 [00:02<00:23,  1.89it/s]/Users/switty/Desktop/Research/GPROC/baseline/bartpy/bartpy/samplers/unconstrainedtree/likihoodratio.py:173: RuntimeWarning: divide by zero encountered in log\n",
      "  prob_value_selected_within_variable = np.log(mutation.existing_node.data.proportion_of_value_in_variable(splitting_variable, splitting_value))\n",
      "/Users/switty/Desktop/Research/GPROC/baseline/bartpy/bartpy/samplers/treemutation.py:77: RuntimeWarning: invalid value encountered in double_scalars\n",
      "  return self.log_transition_ratio(tree, mutation) + self.log_likihood_ratio(model, tree, mutation) + self.log_tree_ratio(model, tree, mutation)\n",
      "  4%|▍         | 2/50 [00:00<00:17,  2.69it/s]"
     ]
    },
    {
     "name": "stdout",
     "output_type": "stream",
     "text": [
      "Starting burn\n"
     ]
    },
    {
     "name": "stderr",
     "output_type": "stream",
     "text": [
      " 12%|█▏        | 6/50 [00:03<00:25,  1.73it/s]/Users/switty/Desktop/Research/GPROC/baseline/bartpy/bartpy/samplers/unconstrainedtree/likihoodratio.py:173: RuntimeWarning: divide by zero encountered in log\n",
      "  prob_value_selected_within_variable = np.log(mutation.existing_node.data.proportion_of_value_in_variable(splitting_variable, splitting_value))\n",
      "/Users/switty/Desktop/Research/GPROC/baseline/bartpy/bartpy/samplers/treemutation.py:77: RuntimeWarning: invalid value encountered in double_scalars\n",
      "  return self.log_transition_ratio(tree, mutation) + self.log_likihood_ratio(model, tree, mutation) + self.log_tree_ratio(model, tree, mutation)\n",
      "  4%|▍         | 2/50 [00:00<00:17,  2.67it/s]"
     ]
    },
    {
     "name": "stdout",
     "output_type": "stream",
     "text": [
      "Starting burn\n"
     ]
    },
    {
     "name": "stderr",
     "output_type": "stream",
     "text": [
      "  6%|▌         | 3/50 [00:01<00:19,  2.42it/s]/Users/switty/Desktop/Research/GPROC/baseline/bartpy/bartpy/samplers/unconstrainedtree/likihoodratio.py:173: RuntimeWarning: divide by zero encountered in log\n",
      "  prob_value_selected_within_variable = np.log(mutation.existing_node.data.proportion_of_value_in_variable(splitting_variable, splitting_value))\n",
      "/Users/switty/Desktop/Research/GPROC/baseline/bartpy/bartpy/samplers/treemutation.py:77: RuntimeWarning: invalid value encountered in double_scalars\n",
      "  return self.log_transition_ratio(tree, mutation) + self.log_likihood_ratio(model, tree, mutation) + self.log_tree_ratio(model, tree, mutation)\n",
      "  8%|▊         | 4/50 [00:01<00:22,  2.06it/s]"
     ]
    },
    {
     "name": "stdout",
     "output_type": "stream",
     "text": [
      "Starting burn\n"
     ]
    },
    {
     "name": "stderr",
     "output_type": "stream",
     "text": [
      " 16%|█▌        | 8/50 [00:05<00:33,  1.26it/s]/Users/switty/Desktop/Research/GPROC/baseline/bartpy/bartpy/samplers/unconstrainedtree/likihoodratio.py:173: RuntimeWarning: divide by zero encountered in log\n",
      "  prob_value_selected_within_variable = np.log(mutation.existing_node.data.proportion_of_value_in_variable(splitting_variable, splitting_value))\n",
      "/Users/switty/Desktop/Research/GPROC/baseline/bartpy/bartpy/samplers/treemutation.py:77: RuntimeWarning: invalid value encountered in double_scalars\n",
      "  return self.log_transition_ratio(tree, mutation) + self.log_likihood_ratio(model, tree, mutation) + self.log_tree_ratio(model, tree, mutation)\n",
      " 10%|█         | 5/50 [00:02<00:25,  1.79it/s]"
     ]
    },
    {
     "name": "stdout",
     "output_type": "stream",
     "text": [
      "Starting burn\n"
     ]
    },
    {
     "name": "stderr",
     "output_type": "stream",
     "text": [
      " 20%|██        | 10/50 [00:06<00:24,  1.63it/s]/Users/switty/Desktop/Research/GPROC/baseline/bartpy/bartpy/samplers/unconstrainedtree/likihoodratio.py:173: RuntimeWarning: divide by zero encountered in log\n",
      "  prob_value_selected_within_variable = np.log(mutation.existing_node.data.proportion_of_value_in_variable(splitting_variable, splitting_value))\n",
      "/Users/switty/Desktop/Research/GPROC/baseline/bartpy/bartpy/samplers/treemutation.py:77: RuntimeWarning: invalid value encountered in double_scalars\n",
      "  return self.log_transition_ratio(tree, mutation) + self.log_likihood_ratio(model, tree, mutation) + self.log_tree_ratio(model, tree, mutation)\n",
      " 12%|█▏        | 6/50 [00:03<00:26,  1.65it/s]"
     ]
    },
    {
     "name": "stdout",
     "output_type": "stream",
     "text": [
      "Starting burn\n"
     ]
    },
    {
     "name": "stderr",
     "output_type": "stream",
     "text": [
      " 10%|█         | 5/50 [00:02<00:25,  1.79it/s]]/Users/switty/Desktop/Research/GPROC/baseline/bartpy/bartpy/samplers/unconstrainedtree/likihoodratio.py:173: RuntimeWarning: divide by zero encountered in log\n",
      "  prob_value_selected_within_variable = np.log(mutation.existing_node.data.proportion_of_value_in_variable(splitting_variable, splitting_value))\n",
      "/Users/switty/Desktop/Research/GPROC/baseline/bartpy/bartpy/samplers/treemutation.py:77: RuntimeWarning: invalid value encountered in double_scalars\n",
      "  return self.log_transition_ratio(tree, mutation) + self.log_likihood_ratio(model, tree, mutation) + self.log_tree_ratio(model, tree, mutation)\n",
      "100%|██████████| 50/50 [00:31<00:00,  1.40it/s]\n"
     ]
    },
    {
     "name": "stdout",
     "output_type": "stream",
     "text": [
      "Starting sampling\n"
     ]
    },
    {
     "name": "stderr",
     "output_type": "stream",
     "text": [
      "100%|██████████| 50/50 [00:30<00:00,  1.42it/s]\n"
     ]
    },
    {
     "name": "stdout",
     "output_type": "stream",
     "text": [
      "Starting sampling\n"
     ]
    },
    {
     "name": "stderr",
     "output_type": "stream",
     "text": [
      "100%|██████████| 50/50 [00:30<00:00,  1.42it/s]\n"
     ]
    },
    {
     "name": "stdout",
     "output_type": "stream",
     "text": [
      "Starting sampling\n"
     ]
    },
    {
     "name": "stderr",
     "output_type": "stream",
     "text": [
      "100%|██████████| 50/50 [00:30<00:00,  1.42it/s]\n"
     ]
    },
    {
     "name": "stdout",
     "output_type": "stream",
     "text": [
      "Starting sampling\n"
     ]
    },
    {
     "name": "stderr",
     "output_type": "stream",
     "text": [
      "100%|██████████| 50/50 [00:30<00:00,  1.43it/s]\n"
     ]
    },
    {
     "name": "stdout",
     "output_type": "stream",
     "text": [
      "Starting sampling\n"
     ]
    },
    {
     "name": "stderr",
     "output_type": "stream",
     "text": [
      "100%|██████████| 50/50 [00:30<00:00,  1.44it/s]\n",
      " 40%|████      | 4/10 [00:01<00:02,  2.15it/s]"
     ]
    },
    {
     "name": "stdout",
     "output_type": "stream",
     "text": [
      "Starting sampling\n"
     ]
    },
    {
     "name": "stderr",
     "output_type": "stream",
     "text": [
      "100%|██████████| 10/10 [00:04<00:00,  1.92it/s]\n",
      "100%|██████████| 50/50 [00:30<00:00,  1.44it/s]\n"
     ]
    },
    {
     "name": "stdout",
     "output_type": "stream",
     "text": [
      "Starting sampling\n"
     ]
    },
    {
     "name": "stderr",
     "output_type": "stream",
     "text": [
      "  0%|          | 0/10 [00:00<?, ?it/s]1.43it/s]\n"
     ]
    },
    {
     "name": "stdout",
     "output_type": "stream",
     "text": [
      "Starting sampling\n"
     ]
    },
    {
     "name": "stderr",
     "output_type": "stream",
     "text": [
      "100%|██████████| 10/10 [00:04<00:00,  1.88it/s]\n",
      "100%|██████████| 10/10 [00:04<00:00,  1.86it/s]\n",
      "100%|██████████| 10/10 [00:04<00:00,  1.91it/s]\n",
      "100%|██████████| 10/10 [00:04<00:00,  2.02it/s]\n",
      "100%|██████████| 10/10 [00:04<00:00,  2.32it/s]\n",
      "100%|██████████| 10/10 [00:04<00:00,  2.40it/s]\n",
      "100%|██████████| 10/10 [00:04<00:00,  2.65it/s]\n"
     ]
    },
    {
     "name": "stdout",
     "output_type": "stream",
     "text": [
      "Starting burn\n"
     ]
    },
    {
     "name": "stderr",
     "output_type": "stream",
     "text": [
      "  0%|          | 0/50 [00:00<?, ?it/s]/Users/switty/Desktop/Research/GPROC/baseline/bartpy/bartpy/samplers/unconstrainedtree/likihoodratio.py:173: RuntimeWarning: divide by zero encountered in log\n",
      "  prob_value_selected_within_variable = np.log(mutation.existing_node.data.proportion_of_value_in_variable(splitting_variable, splitting_value))\n",
      "/Users/switty/Desktop/Research/GPROC/baseline/bartpy/bartpy/samplers/treemutation.py:77: RuntimeWarning: invalid value encountered in double_scalars\n",
      "  return self.log_transition_ratio(tree, mutation) + self.log_likihood_ratio(model, tree, mutation) + self.log_tree_ratio(model, tree, mutation)\n",
      "  2%|▏         | 1/50 [00:00<00:12,  3.94it/s]"
     ]
    },
    {
     "name": "stdout",
     "output_type": "stream",
     "text": [
      "Starting burn\n"
     ]
    },
    {
     "name": "stderr",
     "output_type": "stream",
     "text": [
      "  0%|          | 0/50 [00:00<?, ?it/s]/Users/switty/Desktop/Research/GPROC/baseline/bartpy/bartpy/samplers/unconstrainedtree/likihoodratio.py:173: RuntimeWarning: divide by zero encountered in log\n",
      "  prob_value_selected_within_variable = np.log(mutation.existing_node.data.proportion_of_value_in_variable(splitting_variable, splitting_value))\n",
      "/Users/switty/Desktop/Research/GPROC/baseline/bartpy/bartpy/samplers/treemutation.py:77: RuntimeWarning: invalid value encountered in double_scalars\n",
      "  return self.log_transition_ratio(tree, mutation) + self.log_likihood_ratio(model, tree, mutation) + self.log_tree_ratio(model, tree, mutation)\n",
      "100%|██████████| 50/50 [00:11<00:00,  6.20it/s]\n"
     ]
    },
    {
     "name": "stdout",
     "output_type": "stream",
     "text": [
      "Starting sampling\n"
     ]
    },
    {
     "name": "stderr",
     "output_type": "stream",
     "text": [
      "100%|██████████| 50/50 [00:11<00:00,  5.68it/s]\n"
     ]
    },
    {
     "name": "stdout",
     "output_type": "stream",
     "text": [
      "Starting sampling\n"
     ]
    },
    {
     "name": "stderr",
     "output_type": "stream",
     "text": [
      "100%|██████████| 10/10 [00:02<00:00,  4.94it/s]\n",
      "100%|██████████| 10/10 [00:02<00:00,  4.95it/s]\n"
     ]
    },
    {
     "data": {
      "text/plain": [
       "SklearnModel(alpha=0.95, beta=2.0,\n",
       "       initializer=<bartpy.initializers.sklearntreeinitializer.SklearnTreeInitializer object at 0x14217af98>,\n",
       "       n_burn=50, n_chains=10, n_jobs=-1, n_samples=10, n_trees=10,\n",
       "       sigma_a=0.001, sigma_b=0.001, store_acceptance_trace=True,\n",
       "       store_in_sample_predictions=False, thin=1,\n",
       "       tree_sampler=<bartpy.samplers.unconstrainedtree.treemutation.UnconstrainedTreeMutationSampler object at 0x14217af60>)"
      ]
     },
     "execution_count": 31,
     "metadata": {},
     "output_type": "execute_result"
    }
   ],
   "source": [
    "model = SklearnModel(n_samples=10,\n",
    "                     n_chains=10,\n",
    "                     n_burn=50,\n",
    "                     n_trees=10,\n",
    "                     thin=1,\n",
    "                     store_in_sample_predictions=False)\n",
    "model.fit(Z, Y)"
   ]
  },
  {
   "cell_type": "code",
   "execution_count": 32,
   "metadata": {},
   "outputs": [],
   "source": [
    "loglikelihoods = np.zeros((len(model._model_samples), len(T)))\n",
    "\n",
    "effect = Ycf - Y\n",
    "\n",
    "Ypred = model.predict(Z)\n",
    "Ycf_pred = model.predict(Zcf)\n",
    "\n",
    "effect_pred = Ycf_pred - Ypred\n",
    "\n"
   ]
  },
  {
   "cell_type": "code",
   "execution_count": 33,
   "metadata": {},
   "outputs": [
    {
     "data": {
      "text/plain": [
       "array([-2.89428080e-02,  6.90743370e-01,  2.10011510e+00,  2.10011510e+00,\n",
       "        2.10011510e+00,  2.10011510e+00,  0.00000000e+00,  6.90743370e-01,\n",
       "       -2.10011510e+00,  6.90743370e-01,  2.10011510e+00,  6.90743370e-01,\n",
       "        6.90743370e-01, -2.10011510e+00,  2.10011510e+00, -1.38359234e-01,\n",
       "        0.00000000e+00,  6.90743370e-01,  2.89428080e-02,  6.90743370e-01,\n",
       "       -2.10011510e+00,  2.10011510e+00,  1.77001574e-03,  6.90743370e-01,\n",
       "        2.10011510e+00,  2.10011510e+00, -1.77001574e-03,  6.90743370e-01,\n",
       "       -2.10011510e+00, -2.10011510e+00, -2.10011510e+00,  1.38359234e-01,\n",
       "        6.90743370e-01,  0.00000000e+00,  6.90743370e-01, -2.10011510e+00,\n",
       "       -2.10011510e+00,  2.10011510e+00, -2.10011510e+00, -2.10011510e+00,\n",
       "       -2.10011510e+00,  0.00000000e+00,  1.77001574e-03,  1.77001574e-03,\n",
       "       -2.89428080e-02, -1.38359234e-01,  6.90743370e-01,  2.10011510e+00,\n",
       "        6.90743370e-01,  1.77001574e-03,  1.77001574e-03,  6.90743370e-01,\n",
       "       -2.10011510e+00,  1.77001574e-03, -2.10011510e+00,  2.10011510e+00,\n",
       "        0.00000000e+00, -2.10011510e+00, -1.77001574e-03, -1.24383971e+00,\n",
       "        2.10011510e+00, -2.10011510e+00,  1.38359234e-01, -2.89428080e-02,\n",
       "       -2.10011510e+00,  6.90743370e-01,  2.10011510e+00, -2.10011510e+00,\n",
       "       -1.27101250e+00,  2.10011510e+00,  6.90743370e-01,  6.90743370e-01,\n",
       "       -2.10011510e+00,  6.90743370e-01, -1.77001574e-03,  2.89428080e-02,\n",
       "        1.77001574e-03,  6.90743370e-01,  6.90743370e-01,  1.77001574e-03,\n",
       "        6.90743370e-01, -2.10011510e+00,  0.00000000e+00,  6.90743370e-01,\n",
       "        6.90743370e-01, -1.77001574e-03,  1.38359234e-01, -1.24383971e+00,\n",
       "       -2.10011510e+00,  6.90743370e-01, -2.10011510e+00,  1.77001574e-03,\n",
       "        6.90743370e-01,  2.10011510e+00, -2.10011510e+00,  2.10011510e+00,\n",
       "       -1.38359234e-01,  1.38359234e-01, -1.27101250e+00, -2.10011510e+00,\n",
       "        1.38359234e-01,  6.90743370e-01,  6.90743370e-01,  1.43962120e+00,\n",
       "        2.10011510e+00,  2.10011510e+00,  2.10011510e+00,  2.10011510e+00,\n",
       "       -2.89428080e-02, -2.89428080e-02,  6.90743370e-01,  2.10011510e+00,\n",
       "        6.90743370e-01,  6.90743370e-01,  6.90743370e-01,  6.90743370e-01,\n",
       "       -2.10011510e+00, -2.10011510e+00,  2.10011510e+00, -2.10011510e+00,\n",
       "        6.90743370e-01,  6.90743370e-01,  6.90743370e-01,  2.10011510e+00,\n",
       "        1.43962120e+00, -2.10011510e+00,  6.90743370e-01,  0.00000000e+00,\n",
       "        6.90743370e-01,  6.90743370e-01, -2.10011510e+00,  2.10011510e+00,\n",
       "        6.90743370e-01,  6.90743370e-01,  6.90743370e-01,  6.90743370e-01,\n",
       "       -2.10011510e+00,  2.10011510e+00, -2.10011510e+00, -2.10011510e+00,\n",
       "       -1.38359234e-01,  2.10011510e+00, -2.10011510e+00, -2.10011510e+00,\n",
       "       -2.10011510e+00, -2.10011510e+00, -2.10011510e+00,  2.10011510e+00,\n",
       "        6.90743370e-01, -2.10011510e+00,  6.90743370e-01,  6.90743370e-01,\n",
       "        6.90743370e-01, -6.90743370e-01,  2.10011510e+00,  2.10011510e+00,\n",
       "        2.10011510e+00, -2.10011510e+00,  6.90743370e-01, -2.10011510e+00,\n",
       "        6.90743370e-01,  6.90743370e-01, -1.38359234e-01, -2.10011510e+00,\n",
       "       -2.10011510e+00,  6.90743370e-01,  1.77001574e-03,  1.77001574e-03,\n",
       "       -1.77001574e-03,  0.00000000e+00,  0.00000000e+00,  6.90743370e-01,\n",
       "        2.10011510e+00,  2.45305025e+00, -2.10011510e+00,  1.77001574e-03,\n",
       "        6.90743370e-01, -2.10011510e+00,  2.10011510e+00,  2.10011510e+00,\n",
       "        6.90743370e-01, -1.77001574e-03,  0.00000000e+00,  2.10011510e+00,\n",
       "       -2.10011510e+00,  6.90743370e-01,  2.10011510e+00,  6.90743370e-01,\n",
       "       -2.89428080e-02, -2.10011510e+00, -2.10011510e+00,  1.77001574e-03,\n",
       "       -2.10011510e+00,  2.10011510e+00,  2.10011510e+00, -2.10011510e+00,\n",
       "       -6.90743370e-01, -2.10011510e+00, -1.38359234e-01, -2.10011510e+00,\n",
       "        0.00000000e+00, -2.89428080e-02,  1.77001574e-03, -2.89428080e-02,\n",
       "       -2.89428080e-02, -1.24383971e+00, -1.24383971e+00, -6.90743370e-01,\n",
       "       -1.77001574e-03,  2.10011510e+00,  1.77001574e-03, -2.89428080e-02,\n",
       "       -2.95022662e-01, -1.44625430e-01, -1.77001574e-03,  1.77001574e-03,\n",
       "        1.77001574e-03, -2.89428080e-02, -1.77001574e-03,  1.77001574e-03,\n",
       "        1.77001574e-03, -1.77001574e-03,  1.38359234e-01, -2.89428080e-02,\n",
       "       -1.77001574e-03, -1.27101250e+00, -2.89428080e-02, -2.89428080e-02,\n",
       "       -6.90743370e-01, -2.89428080e-02,  1.77001574e-03, -2.89428080e-02,\n",
       "        2.10011510e+00,  1.38359234e-01,  1.77001574e-03, -2.89428080e-02,\n",
       "       -1.77001574e-03,  1.77001574e-03, -1.24383971e+00, -1.77001574e-03,\n",
       "       -1.77001574e-03,  1.77001574e-03, -2.89428080e-02, -1.77001574e-03,\n",
       "        1.77001574e-03, -2.89428080e-02, -2.89428080e-02,  1.77001574e-03,\n",
       "        1.77001574e-03,  1.77001574e-03, -2.89428080e-02, -1.77001574e-03,\n",
       "       -1.77001574e-03,  1.77001574e-03, -2.10011510e+00, -2.89428080e-02,\n",
       "       -2.89428080e-02,  2.10011510e+00,  4.58003525e-02, -1.77001574e-03,\n",
       "       -1.77001574e-03, -1.77001574e-03,  1.77001574e-03])"
      ]
     },
     "execution_count": 33,
     "metadata": {},
     "output_type": "execute_result"
    }
   ],
   "source": [
    "effect_pred"
   ]
  },
  {
   "cell_type": "code",
   "execution_count": 34,
   "metadata": {},
   "outputs": [],
   "source": [
    "def PEHE(effect, effect_pred):\n",
    "    return np.sqrt(((effect - effect_pred)**2).mean())"
   ]
  },
  {
   "cell_type": "code",
   "execution_count": 35,
   "metadata": {},
   "outputs": [],
   "source": [
    "TreatedMask = T == 1\n",
    "\n",
    "Treated = PEHE(effect[T == 1], effect_pred[T == 1])\n",
    "Control = PEHE(effect[T == 0], effect_pred[T == 0])"
   ]
  },
  {
   "cell_type": "code",
   "execution_count": 36,
   "metadata": {},
   "outputs": [
    {
     "data": {
      "text/plain": [
       "5.69438563779919"
      ]
     },
     "execution_count": 36,
     "metadata": {},
     "output_type": "execute_result"
    }
   ],
   "source": [
    "Treated"
   ]
  },
  {
   "cell_type": "code",
   "execution_count": 37,
   "metadata": {},
   "outputs": [
    {
     "data": {
      "text/plain": [
       "6.318923930802001"
      ]
     },
     "execution_count": 37,
     "metadata": {},
     "output_type": "execute_result"
    }
   ],
   "source": [
    "Control"
   ]
  },
  {
   "cell_type": "code",
   "execution_count": null,
   "metadata": {},
   "outputs": [],
   "source": []
  }
 ],
 "metadata": {
  "kernelspec": {
   "display_name": "Python 3",
   "language": "python",
   "name": "python3"
  },
  "language_info": {
   "codemirror_mode": {
    "name": "ipython",
    "version": 3
   },
   "file_extension": ".py",
   "mimetype": "text/x-python",
   "name": "python",
   "nbconvert_exporter": "python",
   "pygments_lexer": "ipython3",
   "version": "3.6.8"
  }
 },
 "nbformat": 4,
 "nbformat_minor": 2
}
