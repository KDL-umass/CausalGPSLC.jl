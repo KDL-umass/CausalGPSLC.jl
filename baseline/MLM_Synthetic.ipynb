{
 "cells": [
  {
   "cell_type": "code",
   "execution_count": 128,
   "metadata": {},
   "outputs": [
    {
     "name": "stderr",
     "output_type": "stream",
     "text": [
      "WARNING: replacing module Synthetic.\n",
      "WARNING: using Synthetic.generate_synthetic_confounder in module Main conflicts with an existing identifier.\n"
     ]
    }
   ],
   "source": [
    "using JLD\n",
    "include(\"../data/synthetic.jl\")\n",
    "using .Synthetic\n",
    "using TOML\n",
    "using Gen\n",
    "using PyPlot\n",
    "using LinearAlgebra\n",
    "using ProgressBars\n",
    "using Statistics\n",
    "using Distributions"
   ]
  },
  {
   "cell_type": "code",
   "execution_count": 267,
   "metadata": {},
   "outputs": [
    {
     "data": {
      "text/plain": [
       "logmeanexp (generic function with 1 method)"
      ]
     },
     "execution_count": 267,
     "metadata": {},
     "output_type": "execute_result"
    }
   ],
   "source": [
    "experiment = 1\n",
    "logmeanexp(x) = logsumexp(x)-log(length(x))"
   ]
  },
  {
   "cell_type": "code",
   "execution_count": 268,
   "metadata": {},
   "outputs": [],
   "source": [
    "path =  \"../data/synthetic/$(experiment).toml\"\n",
    "SigmaU, U, T, X, Y, epsY, ftxu = generate_synthetic_confounder(path)\n",
    "obj_size = TOML.parsefile(path)[\"data\"][\"obj_size\"]\n",
    "n, nX = size(X)\n",
    "print()\n",
    "\n",
    "# list of obj labels: [1,1,1, ... j,j,j]\n",
    "label = 1\n",
    "obj_label = zeros(n)\n",
    "for i in 1:n\n",
    "    obj_label[i] = label\n",
    "    if (i % obj_size) == 0\n",
    "        label += 1\n",
    "    end \n",
    "end "
   ]
  },
  {
   "cell_type": "code",
   "execution_count": 269,
   "metadata": {},
   "outputs": [
    {
     "data": {
      "text/plain": [
       "Map{Any,Gen.DynamicDSLTrace}(DynamicDSLFunction{Any}(Dict{Symbol,Any}(), Dict{Symbol,Any}(), Type[Any, Any], ##generateNoise#442, Bool[0, 0], false))"
      ]
     },
     "execution_count": 269,
     "metadata": {},
     "output_type": "execute_result"
    }
   ],
   "source": [
    "# generate initial parameters from prior\n",
    "# ty, xy, uy, ynoise\n",
    "@gen function generateLS(mean, scale)\n",
    "    LS = @trace(normal(mean, scale), :LS)\n",
    "    return LS\n",
    "end\n",
    "@gen function generateNoise(shape, scale)\n",
    "    Noise = @trace(inv_gamma(shape, scale), :Noise)\n",
    "    return Noise\n",
    "end\n",
    "nObj = Int(n/obj_size)\n",
    "MappedGenerateLS = Map(generateLS)\n",
    "MappedGenerateNoise = Map(generateNoise)"
   ]
  },
  {
   "cell_type": "code",
   "execution_count": 270,
   "metadata": {},
   "outputs": [
    {
     "data": {
      "text/plain": [
       "DynamicDSLFunction{Any}(Dict{Symbol,Any}(), Dict{Symbol,Any}(), Type[Any, Float64], ##NoiseProposal#446, Bool[0, 0], false)"
      ]
     },
     "execution_count": 270,
     "metadata": {},
     "output_type": "execute_result"
    }
   ],
   "source": [
    "@gen function thetaProposal(trace, var::Float64)\n",
    "    mu = trace[:theta]\n",
    "    @trace(normal(mu, var), :theta)\n",
    "end\n",
    "\n",
    "@gen function alphaProposal(trace, i::Int, var::Float64)\n",
    "    mu = trace[:alpha => i => :LS]\n",
    "    @trace(normal(mu, var), :alpha => i => :LS)\n",
    "end\n",
    "\n",
    "@gen function betaProposal(trace, i::Int, var::Float64)\n",
    "    mu = trace[:beta => i => :LS]\n",
    "    @trace(normal(mu, var), :beta => i => :LS)\n",
    "end\n",
    "\n",
    "@gen function NoiseProposal(trace, var::Float64)\n",
    "    cur = trace[:noise]\n",
    "    \n",
    "    Shape = (cur * cur / var) + 2\n",
    "    Scale = cur * (Shape - 1)\n",
    "    \n",
    "    @trace(inv_gamma(Shape, Scale), :noise)\n",
    "end\n"
   ]
  },
  {
   "cell_type": "code",
   "execution_count": 271,
   "metadata": {},
   "outputs": [
    {
     "data": {
      "text/plain": [
       "DynamicDSLFunction{Any}(Dict{Symbol,Any}(), Dict{Symbol,Any}(), Type[Array{Float64,1}, Array{Float64,1}, Any, Any], ##LinearMLM#447, Bool[0, 0, 0, 0], false)"
      ]
     },
     "execution_count": 271,
     "metadata": {},
     "output_type": "execute_result"
    }
   ],
   "source": [
    "@gen function LinearMLM(xs::Vector{Float64}, ts::Vector{Float64}, obj_label, nObj)\n",
    "    n, nX = size(xs)\n",
    "    beta =  @trace(MappedGenerateLS(fill(0.0, nX), fill(1.0, nX)), :beta) #xyLS\n",
    "    theta = @trace(MappedGenerateLS(fill(0.0, nObj), fill(10.0, nObj)), :theta) #tyLS\n",
    "    alpha = @trace(MappedGenerateLS(fill(0.0, nObj), fill(10.0, nObj)), :alpha) #alpha\n",
    "    sigma = @trace(inv_gamma(4.0, 4.0), :noise) #tyLS\n",
    "    for i in 1:n\n",
    "        obj = Int(obj_label[i])\n",
    "        t = ts[i]\n",
    "        x = xs[i, :]\n",
    "        @trace(normal(sum(beta.*x) + theta[obj] * t + alpha[obj], sigma), \"y-$i\")\n",
    "    end\n",
    "end"
   ]
  },
  {
   "cell_type": "code",
   "execution_count": 272,
   "metadata": {},
   "outputs": [
    {
     "data": {
      "text/plain": [
       "DynamicDSLFunction{Any}(Dict{Symbol,Any}(), Dict{Symbol,Any}(), Type[Array{Float64,1}, Array{Float64,1}, Any, Any], ##LinearMLMOffset#448, Bool[0, 0, 0, 0], false)"
      ]
     },
     "execution_count": 272,
     "metadata": {},
     "output_type": "execute_result"
    }
   ],
   "source": [
    "@gen function LinearMLMOffset(xs::Vector{Float64}, ts::Vector{Float64}, obj_label, nObj)\n",
    "    n, nX = size(xs)\n",
    "    beta =  @trace(MappedGenerateLS(fill(0.0, nX), fill(1.0, nX)), :beta) #xyLS\n",
    "    theta = @trace(normal(0,1), :theta) #tyLS\n",
    "    alpha = @trace(MappedGenerateLS(fill(0.0, nObj), fill(10.0, nObj)), :alpha) #alpha\n",
    "    sigma = @trace(inv_gamma(4.0, 4.0), :noise) #tyLS\n",
    "    for i in 1:n\n",
    "        obj = Int(obj_label[i])\n",
    "        t = ts[i]\n",
    "        x = xs[i, :]\n",
    "        @trace(normal( sum(beta.*x) +theta * t + alpha[obj], sigma), \"y-$i\")\n",
    "    end\n",
    "end"
   ]
  },
  {
   "cell_type": "code",
   "execution_count": 273,
   "metadata": {
    "scrolled": false
   },
   "outputs": [
    {
     "name": "stdout",
     "output_type": "stream",
     "text": [
      "100.00%┣████████████████████████████████████████████████████████▉┫ 1000/1000 00:30<00:00, 33.17 it/s]\n"
     ]
    }
   ],
   "source": [
    "constraints = choicemap()\n",
    "for (i, y) in enumerate(Y)\n",
    "    constraints[\"y-$i\"] = y\n",
    "end\n",
    "n_run = 1000\n",
    "PosteriorSamples = []\n",
    "(trace, _) = generate(LinearMLMOffset, (X, T, obj_label, nObj), constraints)\n",
    "for iter=tqdm(1:n_run)\n",
    "    (trace, _) = mh(trace, thetaProposal, (0.5, ))\n",
    "    (trace, _) = mh(trace, NoiseProposal, (0.5, ))\n",
    "    for k in 1:nObj\n",
    "        (trace, _) = mh(trace, alphaProposal, (k, 0.5))\n",
    "    end \n",
    "    for k in 1:nX\n",
    "        (trace, _) = mh(trace, betaProposal,  (k, 0.5))\n",
    "    end \n",
    "    \n",
    "    push!(PosteriorSamples, get_choices(trace))\n",
    "end"
   ]
  },
  {
   "cell_type": "code",
   "execution_count": 240,
   "metadata": {},
   "outputs": [],
   "source": [
    "if maximum(T) == 1\n",
    "    binary = true\n",
    "    doTs = [1.0, 0.0]\n",
    "else\n",
    "    binary = false\n",
    "    doTnSteps = 20\n",
    "    lower = minimum(T) * 1.05\n",
    "    upper = maximum(T) * 0.95\n",
    "    doTs = [i for i in range(lower,stop=upper,length=doTnSteps)]\n",
    "end\n",
    "print()"
   ]
  },
  {
   "cell_type": "code",
   "execution_count": 264,
   "metadata": {
    "scrolled": false
   },
   "outputs": [],
   "source": [
    "# evaluarion\n",
    "Ycfs, mask, doT = [], nothing, nothing\n",
    "preds = []\n",
    "avg = nothing\n",
    "avg_noises= []\n",
    "for (i, doT) in enumerate(doTs)\n",
    "    mask = T .!= doT\n",
    "    push!(Ycfs, ftxu(fill(doT, sum(mask)), X[mask, :], U[mask, :], epsY[mask]))\n",
    "    pred_at_doT = []\n",
    "    noises= []\n",
    "    for j in 801:n_run\n",
    "        theta = PosteriorSamples[j][:theta]\n",
    "        beta = [PosteriorSamples[j][:beta=>k=>:LS] for k in 1:nX]\n",
    "        alpha = [PosteriorSamples[j][:alpha=>k=>:LS] for k in 1:nObj]\n",
    "        noise = PosteriorSamples[j][:noise]\n",
    "        \n",
    "        Ypred = (X[mask, :] * beta .+ theta * doT .+ alpha[Int.(obj_label[mask])])\n",
    "        push!(pred_at_doT, Ypred)\n",
    "        push!(noises,noise)\n",
    "    end\n",
    "    avg = [mean([pred_at_doT[i][j] for i in 1:200]) for j in 1:length(pred_at_doT[i])]\n",
    "    push!(preds, avg)\n",
    "    \n",
    "end"
   ]
  },
  {
   "cell_type": "code",
   "execution_count": 274,
   "metadata": {},
   "outputs": [
    {
     "data": {
      "text/plain": [
       "2-element Array{Float64,1}:\n",
       " 8.325358702043946 \n",
       " 3.6800151313184988"
      ]
     },
     "execution_count": 274,
     "metadata": {},
     "output_type": "execute_result"
    }
   ],
   "source": [
    "PEHEs = []\n",
    "for k in 1:length(doTs)\n",
    "    push!(PEHEs,(mean((Ycfs[k] .- [preds[k][i] for i in 1:size(preds[k])[1]]).^2)))\n",
    "end \n",
    "(PEHEs.^0.5)"
   ]
  },
  {
   "cell_type": "code",
   "execution_count": 275,
   "metadata": {},
   "outputs": [
    {
     "data": {
      "text/plain": [
       "2-element Array{Float64,1}:\n",
       " 1.0\n",
       " 0.0"
      ]
     },
     "execution_count": 275,
     "metadata": {},
     "output_type": "execute_result"
    }
   ],
   "source": [
    "doTs"
   ]
  },
  {
   "cell_type": "code",
   "execution_count": 260,
   "metadata": {},
   "outputs": [
    {
     "name": "stdout",
     "output_type": "stream",
     "text": [
      "119 2 119\n",
      "81 2 81\n"
     ]
    },
    {
     "ename": "BoundsError",
     "evalue": "BoundsError: attempt to access 2-element Array{Any,1} at index [3]",
     "output_type": "error",
     "traceback": [
      "BoundsError: attempt to access 2-element Array{Any,1} at index [3]",
      "",
      "Stacktrace:",
      " [1] getindex(::Array{Any,1}, ::Int64) at ./array.jl:728",
      " [2] top-level scope at In[260]:3"
     ]
    }
   ],
   "source": [
    "llh = []\n",
    "for doT in 1:doTnSteps\n",
    "    mu = [preds[doT][i] for i in 1:size(preds[doT])[1]] # \n",
    "    \n",
    "    println(length(mu), \" \", length(avg_noises), \" \", length(Ycfs[doT]))\n",
    "    push!(llh, logmeanexp([Distributions.logpdf(Normal(mu[j], noises[j]), Ycfs[doT][j]) for j in 1:length(mu)]))\n",
    "end\n",
    "mean(llh)"
   ]
  },
  {
   "cell_type": "code",
   "execution_count": 275,
   "metadata": {},
   "outputs": [
    {
     "data": {
      "text/plain": [
       "runMLM (generic function with 1 method)"
      ]
     },
     "execution_count": 275,
     "metadata": {},
     "output_type": "execute_result"
    }
   ],
   "source": [
    "function runMLM(experiment)\n",
    "    path =  \"../data/synthetic/$(experiment).toml\"\n",
    "    SigmaU, U, T, X, Y, epsY, ftxu = generate_synthetic_confounder(path)\n",
    "    obj_size = TOML.parsefile(path)[\"data\"][\"obj_size\"]\n",
    "    n, nX = size(X)\n",
    "    print()\n",
    "\n",
    "    # list of obj labels: [1,1,1, ... j,j,j]\n",
    "    label = 1\n",
    "    obj_label = zeros(n)\n",
    "    for i in 1:n\n",
    "        obj_label[i] = label\n",
    "        if (i % obj_size) == 0\n",
    "            label += 1\n",
    "        end \n",
    "    end \n",
    "    \n",
    "    # train MLM\n",
    "    constraints = choicemap()\n",
    "    for (i, y) in enumerate(Y)\n",
    "        constraints[\"y-$i\"] = y\n",
    "    end\n",
    "    n_run = 1000\n",
    "    PosteriorSamples = []\n",
    "    (trace, _) = generate(LinearMLMOffset, (X, T, obj_label, nObj), constraints)\n",
    "    for iter=(1:n_run)\n",
    "        (trace, _) = mh(trace, thetaProposal, (0.5, ))\n",
    "        (trace, _) = mh(trace, NoiseProposal, (0.5, ))\n",
    "        for k in 1:nObj\n",
    "            (trace, _) = mh(trace, alphaProposal, (k, 0.5))\n",
    "        end \n",
    "        for k in 1:nX\n",
    "            (trace, _) = mh(trace, betaProposal,  (k, 0.5))\n",
    "        end \n",
    "\n",
    "        push!(PosteriorSamples, get_choices(trace))\n",
    "    end\n",
    "    \n",
    "    if maximum(T) == 1\n",
    "    binary = true\n",
    "    doTs = [1.0, 0.0]\n",
    "    else\n",
    "        binary = false\n",
    "        doTnSteps = 20\n",
    "        lower = minimum(T) * 1.05\n",
    "        upper = maximum(T) * 0.95\n",
    "        doTs = [i for i in range(lower,stop=upper,length=doTnSteps)]\n",
    "    end\n",
    "\n",
    "    # evaluarion\n",
    "    Ycfs, mask, doT = [], nothing, nothing\n",
    "    preds = []\n",
    "    for (i, doT) in enumerate(doTs)\n",
    "        mask = T .!= doT\n",
    "        push!(Ycfs, ftxu(fill(doT, sum(mask)), X[mask, :], U[mask, :], epsY[mask]))\n",
    "        pred_at_doT = []\n",
    "        for j in 801:n_run\n",
    "            theta = PosteriorSamples[j][:theta]\n",
    "            beta = [PosteriorSamples[j][:beta=>k=>:LS] for k in 1:nX]\n",
    "            alpha = [PosteriorSamples[j][:alpha=>k=>:LS] for k in 1:nObj]\n",
    "            Ypred = (X[mask, :] * beta .+ theta * doT .+ alpha[Int.(obj_label[mask])])\n",
    "            push!(pred_at_doT, Ypred)\n",
    "        end\n",
    "        avg = [mean([pred_at_doT[i][j] for i in 1:200]) for j in 1:length(pred_at_doT[i])]\n",
    "        push!(preds, avg)\n",
    "    end\n",
    "    \n",
    "    PEHEs = []\n",
    "    for k in 1:length(doTs)\n",
    "        push!(PEHEs,(mean((Ycfs[k] .- [preds[k][i] for i in 1:size(preds[k])[1]]).^2)))\n",
    "    end \n",
    "    mean(PEHEs.^0.5)\n",
    "end"
   ]
  },
  {
   "cell_type": "code",
   "execution_count": 276,
   "metadata": {},
   "outputs": [
    {
     "name": "stdout",
     "output_type": "stream",
     "text": [
      "1\n",
      "0.5322290779343195\n",
      "2\n",
      "0.44025433695871174\n",
      "3\n",
      "11.900639863543852\n",
      "4\n",
      "6.833037204611493\n",
      "5\n"
     ]
    },
    {
     "ename": "InterruptException",
     "evalue": "InterruptException:",
     "output_type": "error",
     "traceback": [
      "InterruptException:",
      "",
      "Stacktrace:",
      " [1] setindex! at ./array.jl:766 [inlined]",
      " [2] _setindex! at ./dict.jl:356 [inlined]",
      " [3] setindex!(::Dict{Any,Gen.ChoiceOrCallRecord}, ::Gen.ChoiceOrCallRecord{Float64}, ::String) at ./dict.jl:388",
      " [4] set_leaf_node! at /Users/kentatakatsu/.julia/packages/Gen/oq9mt/src/trie.jl:127 [inlined]",
      " [5] setindex! at /Users/kentatakatsu/.julia/packages/Gen/oq9mt/src/trie.jl:158 [inlined]",
      " [6] add_choice! at /Users/kentatakatsu/.julia/packages/Gen/oq9mt/src/dynamic/trace.jl:81 [inlined]",
      " [7] traceat(::Gen.GFUpdateState, ::Gen.Normal, ::Tuple{Float64,Float64}, ::String) at /Users/kentatakatsu/.julia/packages/Gen/oq9mt/src/dynamic/update.jl:65",
      " [8] ##LinearMLMOffset#434(::Gen.GFUpdateState, ::Array{Float64,2}, ::Array{Float64,1}, ::Array{Float64,1}, ::Int64) at ./In[216]:11",
      " [9] exec(::DynamicDSLFunction{Any}, ::Gen.GFUpdateState, ::Tuple{Array{Float64,2},Array{Float64,1},Array{Float64,1},Int64}) at /Users/kentatakatsu/.julia/packages/Gen/oq9mt/src/dynamic/dynamic.jl:39",
      " [10] update(::Gen.DynamicDSLTrace{DynamicDSLFunction{Any}}, ::Tuple{Array{Float64,2},Array{Float64,1},Array{Float64,1},Int64}, ::NTuple{4,NoChange}, ::DynamicChoiceMap) at /Users/kentatakatsu/.julia/packages/Gen/oq9mt/src/dynamic/update.jl:186",
      " [11] metropolis_hastings(::Gen.DynamicDSLTrace{DynamicDSLFunction{Any}}, ::DynamicDSLFunction{Any}, ::Tuple{Int64,Float64}) at /Users/kentatakatsu/.julia/packages/Gen/oq9mt/src/inference/mh.jl:33",
      " [12] runMLM(::Int64) at ./In[275]:33",
      " [13] top-level scope at ./In[276]:3"
     ]
    }
   ],
   "source": [
    "for i in 1:12\n",
    "    println(i)\n",
    "    println(runMLM(i))\n",
    "end "
   ]
  },
  {
   "cell_type": "code",
   "execution_count": 274,
   "metadata": {},
   "outputs": [
    {
     "name": "stdout",
     "output_type": "stream",
     "text": [
      "1\n"
     ]
    },
    {
     "ename": "MethodError",
     "evalue": "MethodError: no method matching ^(::Array{Any,1}, ::Float64)\nClosest candidates are:\n  ^(!Matched::Missing, ::Number) at missing.jl:94\n  ^(!Matched::Float64, ::Float64) at math.jl:781\n  ^(!Matched::Irrational{:ℯ}, ::Number) at mathconstants.jl:91\n  ...",
     "output_type": "error",
     "traceback": [
      "MethodError: no method matching ^(::Array{Any,1}, ::Float64)\nClosest candidates are:\n  ^(!Matched::Missing, ::Number) at missing.jl:94\n  ^(!Matched::Float64, ::Float64) at math.jl:781\n  ^(!Matched::Irrational{:ℯ}, ::Number) at mathconstants.jl:91\n  ...",
      "",
      "Stacktrace:",
      " [1] runMLM(::Int64) at ./In[272]:72",
      " [2] top-level scope at ./In[274]:3"
     ]
    }
   ],
   "source": [
    "for i in 1:12\n",
    "    println(i)\n",
    "    println(runMLM(i))\n",
    "end "
   ]
  },
  {
   "cell_type": "code",
   "execution_count": null,
   "metadata": {},
   "outputs": [],
   "source": []
  }
 ],
 "metadata": {
  "kernelspec": {
   "display_name": "Julia 1.2.0",
   "language": "julia",
   "name": "julia-1.2"
  },
  "language_info": {
   "file_extension": ".jl",
   "mimetype": "application/julia",
   "name": "julia",
   "version": "1.2.0"
  }
 },
 "nbformat": 4,
 "nbformat_minor": 2
}
