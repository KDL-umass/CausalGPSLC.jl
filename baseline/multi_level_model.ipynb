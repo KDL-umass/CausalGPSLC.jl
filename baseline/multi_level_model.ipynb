{
 "cells": [
  {
   "cell_type": "code",
   "execution_count": 1,
   "metadata": {},
   "outputs": [],
   "source": [
    "using Gen\n",
    "using Random\n",
    "using PyPlot\n",
    "include(\"../data/synthetic.jl\")\n",
    "using .Synthetic"
   ]
  },
  {
   "cell_type": "code",
   "execution_count": 106,
   "metadata": {},
   "outputs": [],
   "source": [
    "# data for debuging\n",
    "# 2 objects with size 50 \n",
    "n = 100\n",
    "obj_size = 50\n",
    "X = zeros(n)\n",
    "Y = zeros(n)\n",
    "U = zeros(n)\n",
    "T = zeros(n)\n",
    "\n",
    "for i in 1:n\n",
    "    X[i] = normal(0, 1)\n",
    "    T[i] = normal(0, 1)\n",
    "    \n",
    "    if i < 51\n",
    "        Y[i] = normal(2*T[i]+1, 0.2)\n",
    "        U[i] = 1\n",
    "    else\n",
    "        Y[i] = normal(-2*T[i]-1, 1)\n",
    "        U[i] = 0\n",
    "    end\n",
    "    \n",
    "end"
   ]
  },
  {
   "cell_type": "code",
   "execution_count": 109,
   "metadata": {},
   "outputs": [
    {
     "data": {
      "text/plain": [
       "Map{Any,Gen.DynamicDSLTrace}(DynamicDSLFunction{Any}(Dict{Symbol,Any}(), Dict{Symbol,Any}(), Type[Any, Any], ##generateNoise#452, Bool[0, 0], false))"
      ]
     },
     "execution_count": 109,
     "metadata": {},
     "output_type": "execute_result"
    }
   ],
   "source": [
    "# generate initial parameters from prior\n",
    "# ty, xy, uy, ynoise\n",
    "@gen function generateLS(mean, scale)\n",
    "    LS = @trace(normal(mean, scale), :LS)\n",
    "    return LS\n",
    "end\n",
    "@gen function generateNoise(shape, scale)\n",
    "    Noise = @trace(inv_gamma(shape, scale), :Noise)\n",
    "    return Noise\n",
    "end\n",
    "nObj = 2\n",
    "MappedGenerateLS = Map(generateLS)\n",
    "MappedGenerateNoise = Map(generateNoise)"
   ]
  },
  {
   "cell_type": "code",
   "execution_count": 110,
   "metadata": {},
   "outputs": [
    {
     "data": {
      "text/plain": [
       "1"
      ]
     },
     "execution_count": 110,
     "metadata": {},
     "output_type": "execute_result"
    }
   ],
   "source": [
    "# list of obj labels: [1,1,1, ... j,j,j]\n",
    "label = 1\n",
    "obj_label = zeros(n)\n",
    "for i in 1:n\n",
    "    obj_label[i] = label\n",
    "    if (i % obj_size) == 0\n",
    "        label += 1\n",
    "    end \n",
    "end \n",
    "Int(obj_label[1])"
   ]
  },
  {
   "cell_type": "code",
   "execution_count": 111,
   "metadata": {},
   "outputs": [
    {
     "data": {
      "text/plain": [
       "DynamicDSLFunction{Any}(Dict{Symbol,Any}(), Dict{Symbol,Any}(), Type[Array{Float64,1}, Array{Float64,1}, Any, Any, Any], ##my_model#453, Bool[0, 0, 0, 0, 0], false)"
      ]
     },
     "execution_count": 111,
     "metadata": {},
     "output_type": "execute_result"
    }
   ],
   "source": [
    "@gen function my_model(xs::Vector{Float64}, ts::Vector{Float64}, obj_label, nX, nObj)\n",
    "    beta = @trace(MappedGenerateLS(fill(0.0, nX), fill(1.0, nX)), :beta) #xyLS\n",
    "    theta = @trace(MappedGenerateLS(fill(0.0, nObj), fill(1.0, nObj)), :theta) #tyLS\n",
    "    alpha = @trace(MappedGenerateLS(fill(0.0, nObj), fill(1.0, nObj)), :alpha) #alpha\n",
    "    noise = @trace(MappedGenerateNoise(fill(4.0, nObj), fill(4.0, nObj)), :sigma)\n",
    "    for (i, x) in enumerate(xs)\n",
    "        obj = Int(obj_label[i])\n",
    "        @trace(normal(sum(beta.*xs[i]) + theta[obj] * ts[i] + alpha[obj], noise[obj]), \"y-$i\")\n",
    "    end\n",
    "end"
   ]
  },
  {
   "cell_type": "code",
   "execution_count": 112,
   "metadata": {},
   "outputs": [],
   "source": [
    "constraints = choicemap()\n",
    "for (i, y) in enumerate(Y)\n",
    "    constraints[\"y-$i\"] = y\n",
    "end\n",
    "n_run = 1000\n",
    "PosteriorSamples = []\n",
    "(trace, _) = generate(my_model, (X, T, obj_label, 1, nObj), constraints)\n",
    "for iter=1:n_run\n",
    "    (trace, _) = mh(trace, select(:beta))\n",
    "    (trace, _) = mh(trace, select(:theta))\n",
    "    (trace, _) = mh(trace, select(:alpha))\n",
    "    (trace, _) = mh(trace, select(:sigma))\n",
    "    \n",
    "    push!(PosteriorSamples, get_choices(trace))\n",
    "end\n",
    "\n",
    "Y_pred = zeros(n)\n",
    "for i in 1:n  \n",
    "    beta = PosteriorSamples[n_run][:beta=>1=>:LS]\n",
    "    theta = [PosteriorSamples[n_run][:theta=>k=>:LS] for k in 1:2]\n",
    "    alpha = [PosteriorSamples[n_run][:alpha=>k=>:LS] for k in 1:2]\n",
    "    noise = [PosteriorSamples[n_run][:sigma=>k=>:Noise] for k in 1:2]\n",
    "    obj = Int(obj_label[i])\n",
    "    Y_pred[i] = normal(sum(beta.*X[i]) + theta[obj] * T[i] + alpha[obj], noise[obj])\n",
    "end"
   ]
  },
  {
   "cell_type": "code",
   "execution_count": 119,
   "metadata": {},
   "outputs": [
    {
     "data": {
      "image/png": "[encoded data removed]",
      "text/plain": [
       "Figure(PyObject <Figure size 640x480 with 1 Axes>)"
      ]
     },
     "metadata": {},
     "output_type": "display_data"
    },
    {
     "data": {
      "text/plain": [
       "PyObject <matplotlib.legend.Legend object at 0x1600a1d10>"
      ]
     },
     "execution_count": 119,
     "metadata": {},
     "output_type": "execute_result"
    }
   ],
   "source": [
    "scatter(T, Y, label=\"True\")\n",
    "scatter(T, Y_pred, label=\"Infered\")\n",
    "legend()"
   ]
  }
 ],
 "metadata": {
  "kernelspec": {
   "display_name": "Julia 1.2.0",
   "language": "julia",
   "name": "julia-1.2"
  },
  "language_info": {
   "file_extension": ".jl",
   "mimetype": "application/julia",
   "name": "julia",
   "version": "1.2.0"
  }
 },
 "nbformat": 4,
 "nbformat_minor": 2
}
