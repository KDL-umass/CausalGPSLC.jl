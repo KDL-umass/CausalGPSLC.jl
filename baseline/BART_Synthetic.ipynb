{
 "cells": [
  {
   "cell_type": "code",
   "execution_count": 1,
   "metadata": {},
   "outputs": [],
   "source": [
    "import toml\n",
    "import sys\n",
    "import numpy as np\n",
    "import pandas as pd\n",
    "\n",
    "from scipy.stats import norm\n",
    "from scipy.special import logsumexp\n",
    "\n",
    "import os\n",
    "\n",
    "try:\n",
    "    chdir\n",
    "    print(\"Changed\")\n",
    "except:\n",
    "    os.chdir(\"./bartpy/\")\n",
    "    chdir = True\n",
    "\n",
    "from bartpy.sklearnmodel import SklearnModel"
   ]
  },
  {
   "cell_type": "code",
   "execution_count": 2,
   "metadata": {},
   "outputs": [],
   "source": [
    "def logmeanexp(x):\n",
    "    return logsumexp(x)-np.log(x.size)"
   ]
  },
  {
   "cell_type": "code",
   "execution_count": 180,
   "metadata": {},
   "outputs": [],
   "source": [
    "experiment = 2"
   ]
  },
  {
   "cell_type": "code",
   "execution_count": 181,
   "metadata": {},
   "outputs": [
    {
     "name": "stdout",
     "output_type": "stream",
     "text": [
      "The julia.magic extension is already loaded. To reload it, use:\n",
      "  %reload_ext julia.magic\n"
     ]
    }
   ],
   "source": [
    "from julia import Julia\n",
    "jl = Julia(compiled_modules=False)\n",
    "%load_ext julia.magic\n",
    "\n",
    "%julia using JLD\n",
    "%julia using TOML\n",
    "%julia using Random\n",
    "%julia include(\"../../data/synthetic.jl\")\n",
    "%julia using .Synthetic\n",
    "\n",
    "%julia Random.seed!(1234)\n",
    "%julia experiment = $experiment\n",
    "%julia config_path = \"../../data/synthetic/$(experiment).toml\"\n",
    "obj_size = %julia TOML.parsefile(config_path)[\"data\"][\"obj_size\"]\n",
    "\n",
    "%julia SigmaU, U_, T_, X_, Y_, epsY, ftxu = generate_synthetic_confounder(config_path)\n",
    "T, X, Y = %julia T_, X_, Y_\n",
    "nObjects = int(len(T_)/obj_size)\n",
    "n = len(T_)\n",
    "object_ids = np.zeros((n, nObjects))\n",
    "\n",
    "for i in range(nObjects):\n",
    "    object_ids[i*obj_size:(i+1)*obj_size, i] = 1\n",
    "\n",
    "\n",
    "Z = np.concatenate([T.reshape(-1, 1), X, object_ids], axis=1)"
   ]
  },
  {
   "cell_type": "code",
   "execution_count": 182,
   "metadata": {},
   "outputs": [],
   "source": [
    "if T_.max() == 1.:\n",
    "    binary = True\n",
    "    doTs = [True, False]\n",
    "else:\n",
    "    binary = False\n",
    "    doTnSteps = 20\n",
    "    lower = min(T) * 1.05\n",
    "    upper = max(T) * 0.95\n",
    "    doTs = np.linspace(lower, upper, doTnSteps)"
   ]
  },
  {
   "cell_type": "code",
   "execution_count": 183,
   "metadata": {},
   "outputs": [
    {
     "name": "stdout",
     "output_type": "stream",
     "text": [
      "Starting burn\n"
     ]
    },
    {
     "name": "stderr",
     "output_type": "stream",
     "text": [
      "  0%|          | 0/50 [00:00<?, ?it/s]/Users/switty/Desktop/Research/GPROC/baseline/bartpy/bartpy/samplers/unconstrainedtree/likihoodratio.py:173: RuntimeWarning: divide by zero encountered in log\n",
      "  prob_value_selected_within_variable = np.log(mutation.existing_node.data.proportion_of_value_in_variable(splitting_variable, splitting_value))\n",
      "/Users/switty/Desktop/Research/GPROC/baseline/bartpy/bartpy/samplers/treemutation.py:77: RuntimeWarning: invalid value encountered in double_scalars\n",
      "  return self.log_transition_ratio(tree, mutation) + self.log_likihood_ratio(model, tree, mutation) + self.log_tree_ratio(model, tree, mutation)\n",
      "  2%|▏         | 1/50 [00:00<00:05,  9.17it/s]"
     ]
    },
    {
     "name": "stdout",
     "output_type": "stream",
     "text": [
      "Starting burn\n"
     ]
    },
    {
     "name": "stderr",
     "output_type": "stream",
     "text": [
      "  0%|          | 0/50 [00:00<?, ?it/s]/Users/switty/Desktop/Research/GPROC/baseline/bartpy/bartpy/samplers/unconstrainedtree/likihoodratio.py:170: RuntimeWarning: divide by zero encountered in log\n",
      "  prob_splitting_variable_selected = - np.log(mutation.existing_node.data.n_splittable_variables)\n",
      "/Users/switty/Desktop/Research/GPROC/baseline/bartpy/bartpy/samplers/unconstrainedtree/likihoodratio.py:173: RuntimeWarning: divide by zero encountered in log\n",
      "  prob_value_selected_within_variable = np.log(mutation.existing_node.data.proportion_of_value_in_variable(splitting_variable, splitting_value))\n",
      "/Users/switty/Desktop/Research/GPROC/baseline/bartpy/bartpy/samplers/treemutation.py:77: RuntimeWarning: invalid value encountered in double_scalars\n",
      "  return self.log_transition_ratio(tree, mutation) + self.log_likihood_ratio(model, tree, mutation) + self.log_tree_ratio(model, tree, mutation)\n",
      "  2%|▏         | 1/50 [00:00<00:05,  9.24it/s]/Users/switty/Desktop/Research/GPROC/baseline/bartpy/bartpy/samplers/unconstrainedtree/likihoodratio.py:170: RuntimeWarning: divide by zero encountered in log\n",
      "  prob_splitting_variable_selected = - np.log(mutation.existing_node.data.n_splittable_variables)\n"
     ]
    },
    {
     "name": "stdout",
     "output_type": "stream",
     "text": [
      "Starting burn\n"
     ]
    },
    {
     "name": "stderr",
     "output_type": "stream",
     "text": [
      "  6%|▌         | 3/50 [00:00<00:04,  9.86it/s]/Users/switty/Desktop/Research/GPROC/baseline/bartpy/bartpy/samplers/unconstrainedtree/likihoodratio.py:173: RuntimeWarning: divide by zero encountered in log\n",
      "  prob_value_selected_within_variable = np.log(mutation.existing_node.data.proportion_of_value_in_variable(splitting_variable, splitting_value))\n",
      "/Users/switty/Desktop/Research/GPROC/baseline/bartpy/bartpy/samplers/treemutation.py:77: RuntimeWarning: invalid value encountered in double_scalars\n",
      "  return self.log_transition_ratio(tree, mutation) + self.log_likihood_ratio(model, tree, mutation) + self.log_tree_ratio(model, tree, mutation)\n",
      "  2%|▏         | 1/50 [00:00<00:05,  8.83it/s]"
     ]
    },
    {
     "name": "stdout",
     "output_type": "stream",
     "text": [
      "Starting burn\n"
     ]
    },
    {
     "name": "stderr",
     "output_type": "stream",
     "text": [
      " 12%|█▏        | 6/50 [00:00<00:04, 10.07it/s]/Users/switty/Desktop/Research/GPROC/baseline/bartpy/bartpy/samplers/unconstrainedtree/likihoodratio.py:170: RuntimeWarning: divide by zero encountered in log\n",
      "  prob_splitting_variable_selected = - np.log(mutation.existing_node.data.n_splittable_variables)\n",
      "/Users/switty/Desktop/Research/GPROC/baseline/bartpy/bartpy/samplers/unconstrainedtree/likihoodratio.py:173: RuntimeWarning: divide by zero encountered in log\n",
      "  prob_value_selected_within_variable = np.log(mutation.existing_node.data.proportion_of_value_in_variable(splitting_variable, splitting_value))\n",
      "/Users/switty/Desktop/Research/GPROC/baseline/bartpy/bartpy/samplers/treemutation.py:77: RuntimeWarning: invalid value encountered in double_scalars\n",
      "  return self.log_transition_ratio(tree, mutation) + self.log_likihood_ratio(model, tree, mutation) + self.log_tree_ratio(model, tree, mutation)\n",
      " 16%|█▌        | 8/50 [00:00<00:03, 10.54it/s]/Users/switty/Desktop/Research/GPROC/baseline/bartpy/bartpy/samplers/unconstrainedtree/likihoodratio.py:170: RuntimeWarning: divide by zero encountered in log\n",
      "  prob_splitting_variable_selected = - np.log(mutation.existing_node.data.n_splittable_variables)\n"
     ]
    },
    {
     "name": "stdout",
     "output_type": "stream",
     "text": [
      "Starting burn\n"
     ]
    },
    {
     "name": "stderr",
     "output_type": "stream",
     "text": [
      "  6%|▌         | 3/50 [00:00<00:04,  9.61it/s]/Users/switty/Desktop/Research/GPROC/baseline/bartpy/bartpy/samplers/unconstrainedtree/likihoodratio.py:173: RuntimeWarning: divide by zero encountered in log\n",
      "  prob_value_selected_within_variable = np.log(mutation.existing_node.data.proportion_of_value_in_variable(splitting_variable, splitting_value))\n",
      "/Users/switty/Desktop/Research/GPROC/baseline/bartpy/bartpy/samplers/treemutation.py:77: RuntimeWarning: invalid value encountered in double_scalars\n",
      "  return self.log_transition_ratio(tree, mutation) + self.log_likihood_ratio(model, tree, mutation) + self.log_tree_ratio(model, tree, mutation)\n",
      " 10%|█         | 5/50 [00:00<00:04,  9.79it/s]]"
     ]
    },
    {
     "name": "stdout",
     "output_type": "stream",
     "text": [
      "Starting burn\n"
     ]
    },
    {
     "name": "stderr",
     "output_type": "stream",
     "text": [
      "  0%|          | 0/50 [00:00<?, ?it/s]/Users/switty/Desktop/Research/GPROC/baseline/bartpy/bartpy/samplers/unconstrainedtree/likihoodratio.py:170: RuntimeWarning: divide by zero encountered in log\n",
      "  prob_splitting_variable_selected = - np.log(mutation.existing_node.data.n_splittable_variables)\n",
      " 24%|██▍       | 12/50 [00:01<00:03, 11.38it/s]/Users/switty/Desktop/Research/GPROC/baseline/bartpy/bartpy/samplers/unconstrainedtree/likihoodratio.py:173: RuntimeWarning: divide by zero encountered in log\n",
      "  prob_value_selected_within_variable = np.log(mutation.existing_node.data.proportion_of_value_in_variable(splitting_variable, splitting_value))\n",
      "/Users/switty/Desktop/Research/GPROC/baseline/bartpy/bartpy/samplers/treemutation.py:77: RuntimeWarning: invalid value encountered in double_scalars\n",
      "  return self.log_transition_ratio(tree, mutation) + self.log_likihood_ratio(model, tree, mutation) + self.log_tree_ratio(model, tree, mutation)\n",
      "  2%|▏         | 1/50 [00:00<00:06,  7.58it/s]"
     ]
    },
    {
     "name": "stdout",
     "output_type": "stream",
     "text": [
      "Starting burn\n"
     ]
    },
    {
     "name": "stderr",
     "output_type": "stream",
     "text": [
      " 12%|█▏        | 6/50 [00:00<00:04,  9.32it/s]/Users/switty/Desktop/Research/GPROC/baseline/bartpy/bartpy/samplers/unconstrainedtree/likihoodratio.py:170: RuntimeWarning: divide by zero encountered in log\n",
      "  prob_splitting_variable_selected = - np.log(mutation.existing_node.data.n_splittable_variables)\n",
      "  4%|▍         | 2/50 [00:00<00:05,  8.18it/s]]/Users/switty/Desktop/Research/GPROC/baseline/bartpy/bartpy/samplers/unconstrainedtree/likihoodratio.py:173: RuntimeWarning: divide by zero encountered in log\n",
      "  prob_value_selected_within_variable = np.log(mutation.existing_node.data.proportion_of_value_in_variable(splitting_variable, splitting_value))\n",
      "/Users/switty/Desktop/Research/GPROC/baseline/bartpy/bartpy/samplers/treemutation.py:77: RuntimeWarning: invalid value encountered in double_scalars\n",
      "  return self.log_transition_ratio(tree, mutation) + self.log_likihood_ratio(model, tree, mutation) + self.log_tree_ratio(model, tree, mutation)\n",
      "  2%|▏         | 1/50 [00:00<00:05,  8.41it/s]]"
     ]
    },
    {
     "name": "stdout",
     "output_type": "stream",
     "text": [
      "Starting burn\n"
     ]
    },
    {
     "name": "stderr",
     "output_type": "stream",
     "text": [
      " 16%|█▌        | 8/50 [00:00<00:04,  9.65it/s]/Users/switty/Desktop/Research/GPROC/baseline/bartpy/bartpy/samplers/unconstrainedtree/likihoodratio.py:170: RuntimeWarning: divide by zero encountered in log\n",
      "  prob_splitting_variable_selected = - np.log(mutation.existing_node.data.n_splittable_variables)\n",
      "  4%|▍         | 2/50 [00:00<00:05,  8.74it/s]/Users/switty/Desktop/Research/GPROC/baseline/bartpy/bartpy/samplers/unconstrainedtree/likihoodratio.py:173: RuntimeWarning: divide by zero encountered in log\n",
      "  prob_value_selected_within_variable = np.log(mutation.existing_node.data.proportion_of_value_in_variable(splitting_variable, splitting_value))\n",
      "/Users/switty/Desktop/Research/GPROC/baseline/bartpy/bartpy/samplers/treemutation.py:77: RuntimeWarning: invalid value encountered in double_scalars\n",
      "  return self.log_transition_ratio(tree, mutation) + self.log_likihood_ratio(model, tree, mutation) + self.log_tree_ratio(model, tree, mutation)\n",
      " 22%|██▏       | 11/50 [00:01<00:03, 10.76it/s]/Users/switty/Desktop/Research/GPROC/baseline/bartpy/bartpy/samplers/unconstrainedtree/likihoodratio.py:170: RuntimeWarning: divide by zero encountered in log\n",
      "  prob_splitting_variable_selected = - np.log(mutation.existing_node.data.n_splittable_variables)\n",
      " 64%|██████▍   | 32/50 [00:02<00:01, 14.05it/s]\n"
     ]
    },
    {
     "name": "stdout",
     "output_type": "stream",
     "text": [
      "Starting sampling\n"
     ]
    },
    {
     "name": "stderr",
     "output_type": "stream",
     "text": [
      " 84%|████████▍ | 42/50 [00:03<00:00, 14.42it/s]\n"
     ]
    },
    {
     "name": "stdout",
     "output_type": "stream",
     "text": [
      "Starting sampling\n"
     ]
    },
    {
     "name": "stderr",
     "output_type": "stream",
     "text": [
      "100%|██████████| 50/50 [00:03<00:00, 13.25it/s]\n"
     ]
    },
    {
     "name": "stdout",
     "output_type": "stream",
     "text": [
      "Starting sampling\n"
     ]
    },
    {
     "name": "stderr",
     "output_type": "stream",
     "text": [
      "100%|██████████| 50/50 [00:03<00:00, 13.39it/s]\n",
      " 80%|████████  | 40/50 [00:03<00:00, 13.41it/s]"
     ]
    },
    {
     "name": "stdout",
     "output_type": "stream",
     "text": [
      "Starting sampling\n"
     ]
    },
    {
     "name": "stderr",
     "output_type": "stream",
     "text": [
      "100%|██████████| 10/10 [00:00<00:00, 12.49it/s]\n",
      "100%|██████████| 50/50 [00:03<00:00, 13.43it/s]\n"
     ]
    },
    {
     "name": "stdout",
     "output_type": "stream",
     "text": [
      "Starting sampling\n"
     ]
    },
    {
     "name": "stderr",
     "output_type": "stream",
     "text": [
      "100%|██████████| 10/10 [00:00<00:00, 12.26it/s]\n",
      "100%|██████████| 50/50 [00:03<00:00, 12.76it/s]\n"
     ]
    },
    {
     "name": "stdout",
     "output_type": "stream",
     "text": [
      "Starting sampling\n"
     ]
    },
    {
     "name": "stderr",
     "output_type": "stream",
     "text": [
      "100%|██████████| 50/50 [00:03<00:00, 12.82it/s]\n"
     ]
    },
    {
     "name": "stdout",
     "output_type": "stream",
     "text": [
      "Starting sampling\n"
     ]
    },
    {
     "name": "stderr",
     "output_type": "stream",
     "text": [
      "100%|██████████| 10/10 [00:00<00:00, 12.22it/s]\n",
      "100%|██████████| 50/50 [00:03<00:00, 12.98it/s]\n"
     ]
    },
    {
     "name": "stdout",
     "output_type": "stream",
     "text": [
      "Starting sampling\n"
     ]
    },
    {
     "name": "stderr",
     "output_type": "stream",
     "text": [
      "100%|██████████| 10/10 [00:00<00:00, 12.62it/s]\n",
      "100%|██████████| 10/10 [00:00<00:00, 12.89it/s]\n",
      " 80%|████████  | 8/10 [00:00<00:00, 15.02it/s]]\n",
      "100%|██████████| 10/10 [00:00<00:00, 15.36it/s]\n",
      "100%|██████████| 10/10 [00:00<00:00, 16.81it/s]\n"
     ]
    },
    {
     "name": "stdout",
     "output_type": "stream",
     "text": [
      "Starting burn\n"
     ]
    },
    {
     "name": "stderr",
     "output_type": "stream",
     "text": [
      "  0%|          | 0/50 [00:00<?, ?it/s]/Users/switty/Desktop/Research/GPROC/baseline/bartpy/bartpy/samplers/unconstrainedtree/likihoodratio.py:173: RuntimeWarning: divide by zero encountered in log\n",
      "  prob_value_selected_within_variable = np.log(mutation.existing_node.data.proportion_of_value_in_variable(splitting_variable, splitting_value))\n",
      "/Users/switty/Desktop/Research/GPROC/baseline/bartpy/bartpy/samplers/treemutation.py:77: RuntimeWarning: invalid value encountered in double_scalars\n",
      "  return self.log_transition_ratio(tree, mutation) + self.log_likihood_ratio(model, tree, mutation) + self.log_tree_ratio(model, tree, mutation)\n",
      "/Users/switty/Desktop/Research/GPROC/baseline/bartpy/bartpy/samplers/unconstrainedtree/likihoodratio.py:170: RuntimeWarning: divide by zero encountered in log\n",
      "  prob_splitting_variable_selected = - np.log(mutation.existing_node.data.n_splittable_variables)\n"
     ]
    },
    {
     "name": "stdout",
     "output_type": "stream",
     "text": [
      "Starting burn\n"
     ]
    },
    {
     "name": "stderr",
     "output_type": "stream",
     "text": [
      "  6%|▌         | 3/50 [00:00<00:02, 20.56it/s]/Users/switty/Desktop/Research/GPROC/baseline/bartpy/bartpy/samplers/unconstrainedtree/likihoodratio.py:173: RuntimeWarning: divide by zero encountered in log\n",
      "  prob_value_selected_within_variable = np.log(mutation.existing_node.data.proportion_of_value_in_variable(splitting_variable, splitting_value))\n",
      "/Users/switty/Desktop/Research/GPROC/baseline/bartpy/bartpy/samplers/treemutation.py:77: RuntimeWarning: invalid value encountered in double_scalars\n",
      "  return self.log_transition_ratio(tree, mutation) + self.log_likihood_ratio(model, tree, mutation) + self.log_tree_ratio(model, tree, mutation)\n",
      "/Users/switty/Desktop/Research/GPROC/baseline/bartpy/bartpy/samplers/unconstrainedtree/likihoodratio.py:170: RuntimeWarning: divide by zero encountered in log\n",
      "  prob_splitting_variable_selected = - np.log(mutation.existing_node.data.n_splittable_variables)\n",
      "100%|██████████| 50/50 [00:01<00:00, 30.55it/s]\n"
     ]
    },
    {
     "name": "stdout",
     "output_type": "stream",
     "text": [
      "Starting sampling\n"
     ]
    },
    {
     "name": "stderr",
     "output_type": "stream",
     "text": [
      "100%|██████████| 50/50 [00:01<00:00, 30.58it/s]\n"
     ]
    },
    {
     "name": "stdout",
     "output_type": "stream",
     "text": [
      "Starting sampling\n"
     ]
    },
    {
     "name": "stderr",
     "output_type": "stream",
     "text": [
      "100%|██████████| 10/10 [00:00<00:00, 31.17it/s]\n",
      "100%|██████████| 10/10 [00:00<00:00, 31.65it/s]\n"
     ]
    },
    {
     "data": {
      "text/plain": [
       "SklearnModel(alpha=0.95, beta=2.0,\n",
       "       initializer=<bartpy.initializers.sklearntreeinitializer.SklearnTreeInitializer object at 0x123456208>,\n",
       "       n_burn=50, n_chains=10, n_jobs=-1, n_samples=10, n_trees=10,\n",
       "       sigma_a=0.001, sigma_b=0.001, store_acceptance_trace=True,\n",
       "       store_in_sample_predictions=False, thin=1,\n",
       "       tree_sampler=<bartpy.samplers.unconstrainedtree.treemutation.UnconstrainedTreeMutationSampler object at 0x1234561d0>)"
      ]
     },
     "execution_count": 183,
     "metadata": {},
     "output_type": "execute_result"
    }
   ],
   "source": [
    "model = SklearnModel(n_samples=10,\n",
    "                     n_chains=10,\n",
    "                     n_burn=50,\n",
    "                     n_trees=10,\n",
    "                     thin=1,\n",
    "                     store_in_sample_predictions=False)\n",
    "model.fit(Z, Y)"
   ]
  },
  {
   "cell_type": "code",
   "execution_count": 184,
   "metadata": {},
   "outputs": [
    {
     "name": "stdout",
     "output_type": "stream",
     "text": [
      "1.5390677818564713\n"
     ]
    }
   ],
   "source": [
    "Zcf = Z.copy()\n",
    "\n",
    "def PEHE(effect, effect_pred):\n",
    "    return np.sqrt(((effect - effect_pred)**2).mean())\n",
    "\n",
    "PEHEs = np.zeros_like(doTs)\n",
    "\n",
    "\n",
    "for i, doT in enumerate(doTs):\n",
    "    mask = %julia mask = T_ .!= $doT\n",
    "    Ycf = %julia ftxu(fill($doT, sum(mask)), X_[mask, :], U_[mask, :], epsY[mask])\n",
    "    mask = T != doT\n",
    "    \n",
    "    Zcf[:, 1] = doT\n",
    "    Y_pred = model.predict(Z[mask])\n",
    "    Ycf_pred = model.predict(Zcf[mask])\n",
    "    effect = Y[mask] - Ycf\n",
    "    effect_pred = Y_pred - Ycf_pred\n",
    "    PEHEs[i] = PEHE(effect, effect_pred)\n",
    "\n",
    "print(PEHEs.mean())\n",
    "\n"
   ]
  },
  {
   "cell_type": "code",
   "execution_count": null,
   "metadata": {},
   "outputs": [],
   "source": []
  },
  {
   "cell_type": "code",
   "execution_count": null,
   "metadata": {},
   "outputs": [],
   "source": []
  }
 ],
 "metadata": {
  "kernelspec": {
   "display_name": "Python 3",
   "language": "python",
   "name": "python3"
  }
 },
 "nbformat": 4,
 "nbformat_minor": 2
}
