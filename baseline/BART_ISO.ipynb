{
 "cells": [
  {
   "cell_type": "code",
   "execution_count": 1,
   "metadata": {},
   "outputs": [],
   "source": [
    "import toml\n",
    "import sys\n",
    "import numpy as np\n",
    "import pandas as pd\n",
    "\n",
    "from scipy.stats import norm\n",
    "from scipy.special import logsumexp\n",
    "\n",
    "import os\n",
    "\n",
    "try:\n",
    "    chdir\n",
    "    print(\"Changed\")\n",
    "except:\n",
    "    os.chdir(\"./bartpy/\")\n",
    "    chdir = True\n",
    "\n",
    "from bartpy.sklearnmodel import SklearnModel"
   ]
  },
  {
   "cell_type": "code",
   "execution_count": 2,
   "metadata": {},
   "outputs": [],
   "source": [
    "def logmeanexp(x):\n",
    "    return logsumexp(x)-np.log(x.size)"
   ]
  },
  {
   "cell_type": "code",
   "execution_count": 3,
   "metadata": {},
   "outputs": [
    {
     "name": "stdout",
     "output_type": "stream",
     "text": [
      "Initializing Julia interpreter. This may take some time...\n"
     ]
    }
   ],
   "source": [
    "from julia import Julia\n",
    "jl = Julia(compiled_modules=False)\n",
    "%load_ext julia.magic\n",
    "\n",
    "%julia using JLD\n",
    "T    = %julia load(\"/Users/switty/Desktop/Research/GPROC/experiments/results/ISO/exp1/T.jld\")[\"T\"]\n",
    "Y    = %julia load(\"/Users/switty/Desktop/Research/GPROC/experiments/results/ISO/exp1/Y.jld\")[\"Y\"]\n",
    "doTs = %julia load(\"/Users/switty/Desktop/Research/GPROC/experiments/results/ISO/exp1/doTs.jld\")[\"doTs\"]\n",
    "Ycfs = %julia load(\"/Users/switty/Desktop/Research/GPROC/experiments/results/ISO/exp1/Ycf.jld\")[\"truthIntMeans\"]\n",
    "regions_key = %julia load(\"/Users/switty/Desktop/Research/GPROC/experiments/results/ISO/exp1/regions_key.jld\")[\"regions_key\"]\n",
    "\n",
    "\n",
    "regions_dict = {}\n",
    "\n",
    "regions = np.unique(regions_key)\n",
    "\n",
    "for i, region in enumerate(regions):\n",
    "    regions_dict[region] = i\n",
    "    \n",
    "X = np.array([regions_dict[region] for region in regions_key])\n",
    "Z = np.vstack([T, X]).T"
   ]
  },
  {
   "cell_type": "code",
   "execution_count": 4,
   "metadata": {},
   "outputs": [
    {
     "name": "stdout",
     "output_type": "stream",
     "text": [
      "Starting burn\n"
     ]
    },
    {
     "name": "stderr",
     "output_type": "stream",
     "text": [
      "  0%|          | 0/50 [00:00<?, ?it/s]/Users/switty/Desktop/Research/GPROC/baseline/bartpy/bartpy/samplers/unconstrainedtree/likihoodratio.py:173: RuntimeWarning: divide by zero encountered in log\n",
      "  prob_value_selected_within_variable = np.log(mutation.existing_node.data.proportion_of_value_in_variable(splitting_variable, splitting_value))\n",
      "/Users/switty/Desktop/Research/GPROC/baseline/bartpy/bartpy/samplers/treemutation.py:77: RuntimeWarning: invalid value encountered in double_scalars\n",
      "  return self.log_transition_ratio(tree, mutation) + self.log_likihood_ratio(model, tree, mutation) + self.log_tree_ratio(model, tree, mutation)\n"
     ]
    },
    {
     "name": "stdout",
     "output_type": "stream",
     "text": [
      "Starting burn\n"
     ]
    },
    {
     "name": "stderr",
     "output_type": "stream",
     "text": [
      "  0%|          | 0/50 [00:00<?, ?it/s]/Users/switty/Desktop/Research/GPROC/baseline/bartpy/bartpy/samplers/unconstrainedtree/likihoodratio.py:173: RuntimeWarning: divide by zero encountered in log\n",
      "  prob_value_selected_within_variable = np.log(mutation.existing_node.data.proportion_of_value_in_variable(splitting_variable, splitting_value))\n",
      "/Users/switty/Desktop/Research/GPROC/baseline/bartpy/bartpy/samplers/treemutation.py:77: RuntimeWarning: invalid value encountered in double_scalars\n",
      "  return self.log_transition_ratio(tree, mutation) + self.log_likihood_ratio(model, tree, mutation) + self.log_tree_ratio(model, tree, mutation)\n",
      "  4%|▍         | 2/50 [00:00<00:02, 17.12it/s]"
     ]
    },
    {
     "name": "stdout",
     "output_type": "stream",
     "text": [
      "Starting burn\n"
     ]
    },
    {
     "name": "stderr",
     "output_type": "stream",
     "text": [
      "\r",
      "  0%|          | 0/50 [00:00<?, ?it/s]"
     ]
    },
    {
     "name": "stdout",
     "output_type": "stream",
     "text": [
      "Starting burn\n"
     ]
    },
    {
     "name": "stderr",
     "output_type": "stream",
     "text": [
      "/Users/switty/Desktop/Research/GPROC/baseline/bartpy/bartpy/samplers/unconstrainedtree/likihoodratio.py:173: RuntimeWarning: divide by zero encountered in log\n",
      "  prob_value_selected_within_variable = np.log(mutation.existing_node.data.proportion_of_value_in_variable(splitting_variable, splitting_value))\n",
      "  0%|          | 0/50 [00:00<?, ?it/s].07it/s]/Users/switty/Desktop/Research/GPROC/baseline/bartpy/bartpy/samplers/treemutation.py:77: RuntimeWarning: invalid value encountered in double_scalars\n",
      "  return self.log_transition_ratio(tree, mutation) + self.log_likihood_ratio(model, tree, mutation) + self.log_tree_ratio(model, tree, mutation)\n",
      "/Users/switty/Desktop/Research/GPROC/baseline/bartpy/bartpy/samplers/unconstrainedtree/likihoodratio.py:173: RuntimeWarning: divide by zero encountered in log\n",
      "  prob_value_selected_within_variable = np.log(mutation.existing_node.data.proportion_of_value_in_variable(splitting_variable, splitting_value))\n",
      "/Users/switty/Desktop/Research/GPROC/baseline/bartpy/bartpy/samplers/treemutation.py:77: RuntimeWarning: invalid value encountered in double_scalars\n",
      "  return self.log_transition_ratio(tree, mutation) + self.log_likihood_ratio(model, tree, mutation) + self.log_tree_ratio(model, tree, mutation)\n"
     ]
    },
    {
     "name": "stdout",
     "output_type": "stream",
     "text": [
      "Starting burn\n"
     ]
    },
    {
     "name": "stderr",
     "output_type": "stream",
     "text": [
      " 10%|█         | 5/50 [00:00<00:02, 18.04it/s]/Users/switty/Desktop/Research/GPROC/baseline/bartpy/bartpy/samplers/unconstrainedtree/likihoodratio.py:173: RuntimeWarning: divide by zero encountered in log\n",
      "  prob_value_selected_within_variable = np.log(mutation.existing_node.data.proportion_of_value_in_variable(splitting_variable, splitting_value))\n",
      "/Users/switty/Desktop/Research/GPROC/baseline/bartpy/bartpy/samplers/treemutation.py:77: RuntimeWarning: invalid value encountered in double_scalars\n",
      "  return self.log_transition_ratio(tree, mutation) + self.log_likihood_ratio(model, tree, mutation) + self.log_tree_ratio(model, tree, mutation)\n",
      "  8%|▊         | 4/50 [00:00<00:02, 16.19it/s]"
     ]
    },
    {
     "name": "stdout",
     "output_type": "stream",
     "text": [
      "Starting burn\n"
     ]
    },
    {
     "name": "stderr",
     "output_type": "stream",
     "text": [
      "  4%|▍         | 2/50 [00:00<00:03, 12.88it/s]/Users/switty/Desktop/Research/GPROC/baseline/bartpy/bartpy/samplers/unconstrainedtree/likihoodratio.py:173: RuntimeWarning: divide by zero encountered in log\n",
      "  prob_value_selected_within_variable = np.log(mutation.existing_node.data.proportion_of_value_in_variable(splitting_variable, splitting_value))\n",
      " 14%|█▍        | 7/50 [00:00<00:02, 17.71it/s]/Users/switty/Desktop/Research/GPROC/baseline/bartpy/bartpy/samplers/treemutation.py:77: RuntimeWarning: invalid value encountered in double_scalars\n",
      "  return self.log_transition_ratio(tree, mutation) + self.log_likihood_ratio(model, tree, mutation) + self.log_tree_ratio(model, tree, mutation)\n"
     ]
    },
    {
     "name": "stdout",
     "output_type": "stream",
     "text": [
      "Starting burn\n"
     ]
    },
    {
     "name": "stderr",
     "output_type": "stream",
     "text": [
      "  4%|▍         | 2/50 [00:00<00:03, 13.58it/s]/Users/switty/Desktop/Research/GPROC/baseline/bartpy/bartpy/samplers/unconstrainedtree/likihoodratio.py:173: RuntimeWarning: divide by zero encountered in log\n",
      "  prob_value_selected_within_variable = np.log(mutation.existing_node.data.proportion_of_value_in_variable(splitting_variable, splitting_value))\n",
      " 12%|█▏        | 6/50 [00:00<00:02, 16.55it/s]/Users/switty/Desktop/Research/GPROC/baseline/bartpy/bartpy/samplers/treemutation.py:77: RuntimeWarning: invalid value encountered in double_scalars\n",
      "  return self.log_transition_ratio(tree, mutation) + self.log_likihood_ratio(model, tree, mutation) + self.log_tree_ratio(model, tree, mutation)\n",
      "  8%|▊         | 4/50 [00:00<00:03, 14.16it/s]"
     ]
    },
    {
     "name": "stdout",
     "output_type": "stream",
     "text": [
      "Starting burn\n"
     ]
    },
    {
     "name": "stderr",
     "output_type": "stream",
     "text": [
      " 18%|█▊        | 9/50 [00:00<00:02, 18.08it/s]/Users/switty/Desktop/Research/GPROC/baseline/bartpy/bartpy/samplers/unconstrainedtree/likihoodratio.py:173: RuntimeWarning: divide by zero encountered in log\n",
      "  prob_value_selected_within_variable = np.log(mutation.existing_node.data.proportion_of_value_in_variable(splitting_variable, splitting_value))\n",
      "/Users/switty/Desktop/Research/GPROC/baseline/bartpy/bartpy/samplers/treemutation.py:77: RuntimeWarning: invalid value encountered in double_scalars\n",
      "  return self.log_transition_ratio(tree, mutation) + self.log_likihood_ratio(model, tree, mutation) + self.log_tree_ratio(model, tree, mutation)\n",
      "100%|██████████| 50/50 [00:02<00:00, 21.50it/s]\n"
     ]
    },
    {
     "name": "stdout",
     "output_type": "stream",
     "text": [
      "Starting sampling\n"
     ]
    },
    {
     "name": "stderr",
     "output_type": "stream",
     "text": [
      "100%|██████████| 50/50 [00:02<00:00, 21.19it/s]\n"
     ]
    },
    {
     "name": "stdout",
     "output_type": "stream",
     "text": [
      "Starting sampling\n"
     ]
    },
    {
     "name": "stderr",
     "output_type": "stream",
     "text": [
      "100%|██████████| 50/50 [00:02<00:00, 20.72it/s]\n",
      " 92%|█████████▏| 46/50 [00:02<00:00, 21.18it/s]"
     ]
    },
    {
     "name": "stdout",
     "output_type": "stream",
     "text": [
      "Starting sampling\n"
     ]
    },
    {
     "name": "stderr",
     "output_type": "stream",
     "text": [
      "100%|██████████| 50/50 [00:02<00:00, 20.83it/s]\n"
     ]
    },
    {
     "name": "stdout",
     "output_type": "stream",
     "text": [
      "Starting sampling\n"
     ]
    },
    {
     "name": "stderr",
     "output_type": "stream",
     "text": [
      "100%|██████████| 50/50 [00:02<00:00, 20.81it/s]\n"
     ]
    },
    {
     "name": "stdout",
     "output_type": "stream",
     "text": [
      "Starting sampling\n"
     ]
    },
    {
     "name": "stderr",
     "output_type": "stream",
     "text": [
      " 30%|███       | 3/10 [00:00<00:00, 23.42it/s]]\n"
     ]
    },
    {
     "name": "stdout",
     "output_type": "stream",
     "text": [
      "Starting sampling\n"
     ]
    },
    {
     "name": "stderr",
     "output_type": "stream",
     "text": [
      "100%|██████████| 50/50 [00:02<00:00, 21.08it/s]\n"
     ]
    },
    {
     "name": "stdout",
     "output_type": "stream",
     "text": [
      "Starting sampling\n"
     ]
    },
    {
     "name": "stderr",
     "output_type": "stream",
     "text": [
      " 50%|█████     | 5/10 [00:00<00:00, 21.75it/s]]\n"
     ]
    },
    {
     "name": "stdout",
     "output_type": "stream",
     "text": [
      "Starting sampling\n"
     ]
    },
    {
     "name": "stderr",
     "output_type": "stream",
     "text": [
      "100%|██████████| 10/10 [00:00<00:00, 20.44it/s]\n",
      "100%|██████████| 10/10 [00:00<00:00, 20.50it/s]\n",
      "100%|██████████| 10/10 [00:00<00:00, 20.90it/s]\n",
      "\n",
      " 80%|████████  | 8/10 [00:00<00:00, 21.56it/s]]\n"
     ]
    },
    {
     "name": "stdout",
     "output_type": "stream",
     "text": [
      "Starting burn\n"
     ]
    },
    {
     "name": "stderr",
     "output_type": "stream",
     "text": [
      "100%|██████████| 10/10 [00:00<00:00, 20.84it/s]/Users/switty/Desktop/Research/GPROC/baseline/bartpy/bartpy/samplers/unconstrainedtree/likihoodratio.py:173: RuntimeWarning: divide by zero encountered in log\n",
      "  prob_value_selected_within_variable = np.log(mutation.existing_node.data.proportion_of_value_in_variable(splitting_variable, splitting_value))\n",
      "\n",
      "/Users/switty/Desktop/Research/GPROC/baseline/bartpy/bartpy/samplers/treemutation.py:77: RuntimeWarning: invalid value encountered in double_scalars\n",
      "  return self.log_transition_ratio(tree, mutation) + self.log_likihood_ratio(model, tree, mutation) + self.log_tree_ratio(model, tree, mutation)\n",
      "100%|██████████| 10/10 [00:00<00:00, 22.46it/s]\n",
      "100%|██████████| 10/10 [00:00<00:00, 22.42it/s]\n"
     ]
    },
    {
     "name": "stdout",
     "output_type": "stream",
     "text": [
      "Starting burn\n"
     ]
    },
    {
     "name": "stderr",
     "output_type": "stream",
     "text": [
      "  0%|          | 0/50 [00:00<?, ?it/s]/Users/switty/Desktop/Research/GPROC/baseline/bartpy/bartpy/samplers/unconstrainedtree/likihoodratio.py:173: RuntimeWarning: divide by zero encountered in log\n",
      "  prob_value_selected_within_variable = np.log(mutation.existing_node.data.proportion_of_value_in_variable(splitting_variable, splitting_value))\n",
      "/Users/switty/Desktop/Research/GPROC/baseline/bartpy/bartpy/samplers/treemutation.py:77: RuntimeWarning: invalid value encountered in double_scalars\n",
      "  return self.log_transition_ratio(tree, mutation) + self.log_likihood_ratio(model, tree, mutation) + self.log_tree_ratio(model, tree, mutation)\n",
      "100%|██████████| 50/50 [00:01<00:00, 34.99it/s]\n"
     ]
    },
    {
     "name": "stdout",
     "output_type": "stream",
     "text": [
      "Starting sampling\n"
     ]
    },
    {
     "name": "stderr",
     "output_type": "stream",
     "text": [
      "100%|██████████| 50/50 [00:01<00:00, 36.22it/s]\n"
     ]
    },
    {
     "name": "stdout",
     "output_type": "stream",
     "text": [
      "Starting sampling\n"
     ]
    },
    {
     "name": "stderr",
     "output_type": "stream",
     "text": [
      "100%|██████████| 10/10 [00:00<00:00, 37.63it/s]\n",
      "100%|██████████| 10/10 [00:00<00:00, 35.91it/s]\n"
     ]
    },
    {
     "data": {
      "text/plain": [
       "SklearnModel(alpha=0.95, beta=2.0,\n",
       "       initializer=<bartpy.initializers.sklearntreeinitializer.SklearnTreeInitializer object at 0x12054d1d0>,\n",
       "       n_burn=50, n_chains=10, n_jobs=-1, n_samples=10, n_trees=10,\n",
       "       sigma_a=0.001, sigma_b=0.001, store_acceptance_trace=True,\n",
       "       store_in_sample_predictions=False, thin=1,\n",
       "       tree_sampler=<bartpy.samplers.unconstrainedtree.treemutation.UnconstrainedTreeMutationSampler object at 0x12054d198>)"
      ]
     },
     "execution_count": 4,
     "metadata": {},
     "output_type": "execute_result"
    }
   ],
   "source": [
    "model = SklearnModel(n_samples=10,\n",
    "                     n_chains=10,\n",
    "                     n_burn=50,\n",
    "                     n_trees=10,\n",
    "                     thin=1,\n",
    "                     store_in_sample_predictions=False)\n",
    "model.fit(Z, Y)"
   ]
  },
  {
   "cell_type": "code",
   "execution_count": 5,
   "metadata": {},
   "outputs": [
    {
     "name": "stdout",
     "output_type": "stream",
     "text": [
      "CT -14.223822079883153\n",
      "ME -4.720804154005865\n",
      "NEMA -11.395166235926173\n",
      "NH -4.808810680218755\n",
      "RI -3.3553429530292487\n",
      "VT -2.479305913547578\n"
     ]
    }
   ],
   "source": [
    "# Approximate noises and compute posterior predictive\n",
    "for region_id, region in enumerate(regions):\n",
    "    \n",
    "    mask = X == region_id\n",
    "    \n",
    "    likelihoods = np.zeros((len(model._model_samples), len(doTs)))\n",
    "    \n",
    "    for i, tree in enumerate(model._model_samples):\n",
    "        Ypred = tree.predict(Z)\n",
    "        noise = (Y - Ypred).var()\n",
    "        \n",
    "        for j, doT in enumerate(doTs):\n",
    "            Zcf = np.array([[doT, region_id]])\n",
    "            Ycf = Ycfs[region][j]\n",
    "            Ycf_pred = tree.predict(Zcf)\n",
    "            \n",
    "\n",
    "            error = (Ycf - Ycf_pred)/noise\n",
    "#             print(error)\n",
    "            likelihoods[i, j] = norm.logpdf(error)\n",
    "    \n",
    "    print(regions[region_id], logmeanexp(likelihoods))\n",
    "\n",
    "\n",
    "\n",
    "\n",
    "\n",
    "\n",
    "\n",
    "\n"
   ]
  },
  {
   "cell_type": "code",
   "execution_count": null,
   "metadata": {},
   "outputs": [],
   "source": []
  }
 ],
 "metadata": {
  "kernelspec": {
   "display_name": "Python 3",
   "language": "python",
   "name": "python3"
  },
  "language_info": {
   "codemirror_mode": {
    "name": "ipython",
    "version": 3
   },
   "file_extension": ".py",
   "mimetype": "text/x-python",
   "name": "python",
   "nbconvert_exporter": "python",
   "pygments_lexer": "ipython3",
   "version": "3.6.8"
  }
 },
 "nbformat": 4,
 "nbformat_minor": 2
}
